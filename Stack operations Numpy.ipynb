{
 "cells": [
  {
   "cell_type": "markdown",
   "metadata": {},
   "source": [
    "__Stack__: Is nothing but combining the arrays.\n",
    "\n",
    "There are 4 types of stacks:\n",
    "\n",
    "1.Vertical stack.\n",
    "\n",
    "2.Horizontal stack.\n",
    "\n",
    "3.Column stack.\n",
    "\n",
    "4.Depth stack."
   ]
  },
  {
   "cell_type": "code",
   "execution_count": 5,
   "metadata": {},
   "outputs": [
    {
     "name": "stdout",
     "output_type": "stream",
     "text": [
      "[[2. 9.]\n",
      " [5. 0.]]\n",
      "[[2. 7.]\n",
      " [0. 2.]]\n",
      "[[2. 9.]\n",
      " [5. 0.]\n",
      " [2. 7.]\n",
      " [0. 2.]]\n"
     ]
    }
   ],
   "source": [
    "#examples for vertical stack.\n",
    "import numpy as np\n",
    "a = np.floor(10*np.random.random(4)).reshape(2, 2)\n",
    "b = np.floor(10*np.random.random(4)).reshape(2, 2)\n",
    "print(a)\n",
    "print(b)\n",
    "c = np.vstack((a, b))\n",
    "print(c)"
   ]
  },
  {
   "cell_type": "code",
   "execution_count": 6,
   "metadata": {},
   "outputs": [
    {
     "name": "stdout",
     "output_type": "stream",
     "text": [
      "[[8. 8.]\n",
      " [8. 9.]]\n",
      "[[6. 2.]\n",
      " [4. 3.]]\n",
      "[[8. 8. 6. 2.]\n",
      " [8. 9. 4. 3.]]\n"
     ]
    }
   ],
   "source": [
    "#examples for horizontal stack.\n",
    "import numpy as np\n",
    "a = np.floor(10*np.random.random(4)).reshape(2, 2)\n",
    "b = np.floor(10*np.random.random(4)).reshape(2, 2)\n",
    "print(a)\n",
    "print(b)\n",
    "c = np.hstack((a, b))\n",
    "print(c)"
   ]
  },
  {
   "cell_type": "code",
   "execution_count": 8,
   "metadata": {},
   "outputs": [
    {
     "name": "stdout",
     "output_type": "stream",
     "text": [
      "[[1 2]\n",
      " [3 4]]\n",
      "[[1 3]\n",
      " [2 4]]\n"
     ]
    }
   ],
   "source": [
    "#example for column stack.\n",
    "import numpy as np\n",
    "from numpy import newaxis\n",
    "a = np.arange(1, 5).reshape(2, 2)\n",
    "print(a)\n",
    "b = np.column_stack(a)\n",
    "print(b)"
   ]
  },
  {
   "cell_type": "markdown",
   "metadata": {},
   "source": [
    "__Note__: Column_stack is just like array transpose.(There is no row_stack)\n",
    "\n",
    "column_stack()- Is used to convert 1D to multi-dimension."
   ]
  },
  {
   "cell_type": "code",
   "execution_count": 11,
   "metadata": {},
   "outputs": [
    {
     "name": "stdout",
     "output_type": "stream",
     "text": [
      "[4 2]\n",
      "[[4]\n",
      " [2]]\n",
      "[[4 2]]\n"
     ]
    }
   ],
   "source": [
    "#newaxis:1D to 2D\n",
    "import numpy as np\n",
    "from numpy import newaxis\n",
    "a = np.array([4,2])\n",
    "b = a[:, newaxis]\n",
    "c = a[newaxis, :]\n",
    "print(a)\n",
    "print(b)\n",
    "print(c)"
   ]
  },
  {
   "cell_type": "code",
   "execution_count": 14,
   "metadata": {},
   "outputs": [
    {
     "name": "stdout",
     "output_type": "stream",
     "text": [
      "[[1 2]\n",
      " [3 4]]\n",
      "[[[1 2]]\n",
      "\n",
      " [[3 4]]]\n",
      "[[[1 2]\n",
      "  [3 4]]]\n"
     ]
    }
   ],
   "source": [
    "#newaxis: 2D to 3D\n",
    "import numpy as np\n",
    "a = np.array([[1, 2], [3, 4]])\n",
    "print(a)\n",
    "b = a[:, newaxis]\n",
    "print(b)\n",
    "c = a[newaxis, :]\n",
    "print(c)"
   ]
  },
  {
   "cell_type": "code",
   "execution_count": 19,
   "metadata": {},
   "outputs": [
    {
     "name": "stdout",
     "output_type": "stream",
     "text": [
      "[[1]\n",
      " [2]\n",
      " [3]]\n",
      "[[[1]\n",
      "  [2]\n",
      "  [3]]]\n",
      "[[[1]]\n",
      "\n",
      " [[2]]\n",
      "\n",
      " [[3]]]\n"
     ]
    }
   ],
   "source": [
    "import numpy as np\n",
    "from numpy import newaxis\n",
    "a = np.array([[1], [2], [3]])\n",
    "print(a)\n",
    "b = a[newaxis, :]\n",
    "print(b)\n",
    "c = a[:, newaxis]\n",
    "print(c)"
   ]
  },
  {
   "cell_type": "code",
   "execution_count": 23,
   "metadata": {},
   "outputs": [
    {
     "name": "stdout",
     "output_type": "stream",
     "text": [
      "[[1 2 3]\n",
      " [4 5 6]\n",
      " [7 8 9]]\n",
      "[[[1 2 3]]\n",
      "\n",
      " [[4 5 6]]\n",
      "\n",
      " [[7 8 9]]]\n",
      "[[[1 2 3]\n",
      "  [4 5 6]\n",
      "  [7 8 9]]]\n"
     ]
    }
   ],
   "source": [
    "import numpy as np\n",
    "a = np.array([[1, 2, 3], [4, 5, 6], [7, 8, 9]])\n",
    "print(a)\n",
    "b = a[:, newaxis]\n",
    "print(b)\n",
    "c = a[newaxis, :]\n",
    "print(c)"
   ]
  },
  {
   "cell_type": "markdown",
   "metadata": {},
   "source": [
    "__Note__: This function is used to add an axis whereever it is mentioned."
   ]
  },
  {
   "cell_type": "code",
   "execution_count": 26,
   "metadata": {},
   "outputs": [
    {
     "name": "stdout",
     "output_type": "stream",
     "text": [
      "[1 2 3]\n",
      "[4 5 6]\n",
      "[[[1 4]\n",
      "  [2 5]\n",
      "  [3 6]]]\n"
     ]
    }
   ],
   "source": [
    "#example for depth stack.\n",
    "import numpy as np\n",
    "a = np.array([1, 2, 3])\n",
    "b = np.array([4, 5, 6])\n",
    "c = np.dstack((a, b))\n",
    "print(a)\n",
    "print(b)\n",
    "print(c)"
   ]
  },
  {
   "cell_type": "markdown",
   "metadata": {},
   "source": [
    "__Note__: This function is used to convert rows into columns."
   ]
  },
  {
   "cell_type": "code",
   "execution_count": 27,
   "metadata": {},
   "outputs": [
    {
     "name": "stdout",
     "output_type": "stream",
     "text": [
      "[1 2 3 4 5 6]\n"
     ]
    }
   ],
   "source": [
    "#example for r_\n",
    "import numpy as np\n",
    "a = np.r_[1:5, 5, 6]\n",
    "print(a)"
   ]
  },
  {
   "cell_type": "code",
   "execution_count": 28,
   "metadata": {},
   "outputs": [
    {
     "name": "stdout",
     "output_type": "stream",
     "text": [
      "[[1 4]\n",
      " [2 5]\n",
      " [3 6]]\n"
     ]
    }
   ],
   "source": [
    "#example for c_\n",
    "import numpy as np\n",
    "a = np.c_[np.array([1, 2, 3]), np.array([4, 5, 6])]\n",
    "print(a)"
   ]
  },
  {
   "cell_type": "code",
   "execution_count": 29,
   "metadata": {},
   "outputs": [
    {
     "name": "stdout",
     "output_type": "stream",
     "text": [
      "[[1 2 3 4 5 6]]\n"
     ]
    }
   ],
   "source": [
    "import numpy as np\n",
    "a = np.c_[np.array([[1, 2, 3]]), np.array([[4, 5, 6]])]\n",
    "print(a)"
   ]
  }
 ],
 "metadata": {
  "kernelspec": {
   "display_name": "Python 3",
   "language": "python",
   "name": "python3"
  },
  "language_info": {
   "codemirror_mode": {
    "name": "ipython",
    "version": 3
   },
   "file_extension": ".py",
   "mimetype": "text/x-python",
   "name": "python",
   "nbconvert_exporter": "python",
   "pygments_lexer": "ipython3",
   "version": "3.8.2"
  }
 },
 "nbformat": 4,
 "nbformat_minor": 4
}
