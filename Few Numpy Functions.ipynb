{
 "cells": [
  {
   "cell_type": "code",
   "execution_count": 2,
   "metadata": {},
   "outputs": [
    {
     "name": "stdout",
     "output_type": "stream",
     "text": [
      "[0 1 2 3 4]\n"
     ]
    }
   ],
   "source": [
    "#1.arange()- This function prints the range of values starting from zero to the value specified in parenthesis minus one.\n",
    "import numpy as np\n",
    "a = np.arange(5) #Note: This is same as range function in python. Arange is nothing but array range.\n",
    "print(a)"
   ]
  },
  {
   "cell_type": "code",
   "execution_count": 3,
   "metadata": {},
   "outputs": [
    {
     "name": "stdout",
     "output_type": "stream",
     "text": [
      "[10 11 12 13 14 15 16 17 18 19 20]\n"
     ]
    }
   ],
   "source": [
    "b = np.arange(10, 21)\n",
    "print(b) "
   ]
  },
  {
   "cell_type": "markdown",
   "metadata": {},
   "source": [
    "#Note: In the above example two parameters are specified inside the parenthesis.\n",
    "\n",
    "first parameter indicate the starting number.\n",
    "\n",
    "second parameter indicate the stopping number minus one."
   ]
  },
  {
   "cell_type": "code",
   "execution_count": 4,
   "metadata": {},
   "outputs": [
    {
     "name": "stdout",
     "output_type": "stream",
     "text": [
      "[ 0  5 10 15 20]\n"
     ]
    }
   ],
   "source": [
    "a = np.arange(0, 21, 5)\n",
    "print(a)"
   ]
  },
  {
   "cell_type": "markdown",
   "metadata": {},
   "source": [
    "Note: In the above example three parameters are specified inside the parenthesis.\n",
    "\n",
    "First parameter indicate the starting number.\n",
    "\n",
    "Second Parameter indicates the ending number minus one.\n",
    "\n",
    "And the third parameter indicates the difference of 5 numbers."
   ]
  },
  {
   "cell_type": "code",
   "execution_count": 16,
   "metadata": {},
   "outputs": [
    {
     "name": "stdout",
     "output_type": "stream",
     "text": [
      "[0.   0.25 0.5  0.75 1.   1.25 1.5  1.75 2.  ]\n"
     ]
    },
    {
     "data": {
      "image/png": "[encoded data removed]",
      "text/plain": [
       "<Figure size 432x288 with 1 Axes>"
      ]
     },
     "metadata": {
      "needs_background": "light"
     },
     "output_type": "display_data"
    }
   ],
   "source": [
    "#2.linspace()\n",
    "import numpy as np\n",
    "import matplotlib.pyplot as plt\n",
    "a = np.linspace(0, 2, 9)\n",
    "print(a)\n",
    "plt.plot(a)\n",
    "plt.show()\n",
    "#Note: This functions outputs 9 numbers which are equally divided in the range of zero to three."
   ]
  },
  {
   "cell_type": "code",
   "execution_count": 17,
   "metadata": {},
   "outputs": [
    {
     "name": "stdout",
     "output_type": "stream",
     "text": [
      "[0.         3.14159265 6.28318531]\n"
     ]
    },
    {
     "data": {
      "text/plain": [
       "[<matplotlib.lines.Line2D at 0x2191531c278>]"
      ]
     },
     "execution_count": 17,
     "metadata": {},
     "output_type": "execute_result"
    },
    {
     "data": {
      "image/png": "[encoded data removed]",
      "text/plain": [
       "<Figure size 432x288 with 1 Axes>"
      ]
     },
     "metadata": {
      "needs_background": "light"
     },
     "output_type": "display_data"
    }
   ],
   "source": [
    "a = np.linspace(0, 2*np.pi, 3)\n",
    "print(a)\n",
    "plt.plot(a)"
   ]
  },
  {
   "cell_type": "code",
   "execution_count": 1,
   "metadata": {},
   "outputs": [
    {
     "name": "stdout",
     "output_type": "stream",
     "text": [
      "[[ 0  1  2  3  4  5  6  7  8  9]\n",
      " [10 11 12 13 14 15 16 17 18 19]\n",
      " [20 21 22 23 24 25 26 27 28 29]\n",
      " [30 31 32 33 34 35 36 37 38 39]\n",
      " [40 41 42 43 44 45 46 47 48 49]\n",
      " [50 51 52 53 54 55 56 57 58 59]\n",
      " [60 61 62 63 64 65 66 67 68 69]\n",
      " [70 71 72 73 74 75 76 77 78 79]\n",
      " [80 81 82 83 84 85 86 87 88 89]\n",
      " [90 91 92 93 94 95 96 97 98 99]]\n"
     ]
    }
   ],
   "source": [
    "#3.reshape()-function is used to reshape the elements in certain order specified inside the parenthesis.\n",
    "import numpy as np\n",
    "a = np.arange(100).reshape(10, 10)\n",
    "print(a) "
   ]
  },
  {
   "cell_type": "code",
   "execution_count": 2,
   "metadata": {},
   "outputs": [
    {
     "name": "stdout",
     "output_type": "stream",
     "text": [
      "[[1 0 0]\n",
      " [0 1 0]\n",
      " [0 0 1]]\n"
     ]
    }
   ],
   "source": [
    "#4.diag()-this function will print the specified array elements diagonally.\n",
    "a = np.diag(np.array([1, 1, 1]))\n",
    "print(a)"
   ]
  },
  {
   "cell_type": "code",
   "execution_count": 7,
   "metadata": {},
   "outputs": [
    {
     "name": "stdout",
     "output_type": "stream",
     "text": [
      "[[0.44841815 0.36714849 0.17980556 0.4987375  0.2127908  0.59292867\n",
      "  0.45093863 0.36981975 0.44376347 0.60556956]]\n"
     ]
    }
   ],
   "source": [
    "#5.rand()- This function generates 10 positive floating random values in the range of zero to one.\n",
    "import numpy as np\n",
    "a = np.random.rand(1, 10)\n",
    "print(a)"
   ]
  },
  {
   "cell_type": "code",
   "execution_count": 8,
   "metadata": {},
   "outputs": [
    {
     "name": "stdout",
     "output_type": "stream",
     "text": [
      "[0.0441652  0.87799953 0.1671172  0.64703251 0.35812643 0.0426481\n",
      " 0.3518927  0.35566563 0.82048442 0.22519055]\n"
     ]
    }
   ],
   "source": [
    "#6.random()-This function is same as the rand() except that this function only takes a single argument.\n",
    "import numpy as np\n",
    "a = np.random.random(10)\n",
    "print(a)"
   ]
  },
  {
   "cell_type": "code",
   "execution_count": 10,
   "metadata": {},
   "outputs": [
    {
     "name": "stdout",
     "output_type": "stream",
     "text": [
      "0\n"
     ]
    }
   ],
   "source": [
    "#7.randint()-This function will print a random integer value in the range of zero to nine.\n",
    "a = np.random.randint(10) #note: Each time the random integer value generated changes if you run this cell again and again.\n",
    "print(a)"
   ]
  },
  {
   "cell_type": "code",
   "execution_count": 12,
   "metadata": {},
   "outputs": [
    {
     "name": "stdout",
     "output_type": "stream",
     "text": [
      "[ 0.60420856 -1.70006838 -0.38429302]\n"
     ]
    }
   ],
   "source": [
    "#8.randn()- This function will generate the random +ve and -ve value in the range specified inside the parenthesis.\n",
    "a = np.random.randn(3)\n",
    "print(a)"
   ]
  },
  {
   "cell_type": "code",
   "execution_count": 16,
   "metadata": {},
   "outputs": [
    {
     "name": "stdout",
     "output_type": "stream",
     "text": [
      "None\n"
     ]
    }
   ],
   "source": [
    "#9.seed()\n",
    "import numpy as np\n",
    "a = np.random.seed(0)\n",
    "print(a)"
   ]
  },
  {
   "cell_type": "code",
   "execution_count": 1,
   "metadata": {},
   "outputs": [
    {
     "name": "stdout",
     "output_type": "stream",
     "text": [
      "2.718281828459045\n"
     ]
    }
   ],
   "source": [
    "#10.exp()-This function calculates the exponent of a passed parameter.\n",
    "import numpy as np\n",
    "a = np.exp(1)\n",
    "print(a)"
   ]
  },
  {
   "cell_type": "code",
   "execution_count": 3,
   "metadata": {},
   "outputs": [
    {
     "name": "stdout",
     "output_type": "stream",
     "text": [
      "5.0\n"
     ]
    }
   ],
   "source": [
    "#11.sqrt()-This function outputs the square root of a passed parameter.\n",
    "a = np.sqrt(25)\n",
    "print(a)"
   ]
  },
  {
   "cell_type": "code",
   "execution_count": 4,
   "metadata": {},
   "outputs": [
    {
     "name": "stdout",
     "output_type": "stream",
     "text": [
      "[3 6 9]\n"
     ]
    }
   ],
   "source": [
    "#12.add()-This function will add both the arrays.\n",
    "a = np.array([1, 2, 3])\n",
    "b = np.array([2, 4, 6])\n",
    "print(np.add(a, b))"
   ]
  },
  {
   "cell_type": "code",
   "execution_count": 5,
   "metadata": {},
   "outputs": [
    {
     "name": "stdout",
     "output_type": "stream",
     "text": [
      "False\n"
     ]
    }
   ],
   "source": [
    "#13.all()-This function return True if all the elements in an array are True.\n",
    "a = np.array([True, True, False])\n",
    "print(np.all(a))"
   ]
  },
  {
   "cell_type": "code",
   "execution_count": 6,
   "metadata": {},
   "outputs": [
    {
     "name": "stdout",
     "output_type": "stream",
     "text": [
      "True\n"
     ]
    }
   ],
   "source": [
    "#14.any()-This function returns True if any one of the element of an array is True.\n",
    "a = np.array([True, False, False])\n",
    "print(np.any(a))"
   ]
  },
  {
   "cell_type": "code",
   "execution_count": 7,
   "metadata": {},
   "outputs": [
    {
     "name": "stdout",
     "output_type": "stream",
     "text": [
      "True\n"
     ]
    }
   ],
   "source": [
    "#example.\n",
    "a = np.any(np.nan)\n",
    "print(a) #Note: If nan or empty array then it return True."
   ]
  },
  {
   "cell_type": "markdown",
   "metadata": {},
   "source": [
    "Note: If you perform any arithmatic operation with nan you will get nan as output."
   ]
  },
  {
   "cell_type": "code",
   "execution_count": 8,
   "metadata": {},
   "outputs": [
    {
     "name": "stdout",
     "output_type": "stream",
     "text": [
      "[nan nan nan]\n"
     ]
    }
   ],
   "source": [
    "#example demonstrating above note.\n",
    "a = np.array([1, 2, 3])\n",
    "b = np.nan\n",
    "print(a+b)"
   ]
  },
  {
   "cell_type": "markdown",
   "metadata": {},
   "source": [
    "Note: None is a python object.\n",
    "NaN is a Numpy object which eliminates all the data."
   ]
  },
  {
   "cell_type": "code",
   "execution_count": 28,
   "metadata": {},
   "outputs": [
    {
     "name": "stdout",
     "output_type": "stream",
     "text": [
      "[[5 4 3 8]\n",
      " [9 5 4 4]\n",
      " [5 3 2 8]]\n",
      "10\n",
      "[0 2 2 1]\n",
      "[2 2 2]\n",
      "4\n",
      "[1 1 1 0]\n",
      "[3 0 3]\n"
     ]
    }
   ],
   "source": [
    "#15.argmin()-This function will return the argument of the minimum element of an array.\n",
    "import numpy as np\n",
    "a = np.array([[5, 4, 3, 8], [9, 5, 4, 4], [5, 3, 2, 8]])\n",
    "print(a)\n",
    "print(a.argmin())\n",
    "print(a.argmin(axis = 0))\n",
    "print(a.argmin(axis = 1))"
   ]
  },
  {
   "cell_type": "code",
   "execution_count": 29,
   "metadata": {},
   "outputs": [
    {
     "name": "stdout",
     "output_type": "stream",
     "text": [
      "[[5 4 3 8]\n",
      " [9 5 4 4]\n",
      " [5 3 2 8]]\n",
      "4\n",
      "[1 1 1 0]\n",
      "[3 0 3]\n"
     ]
    }
   ],
   "source": [
    "#16.argmax()-This function will return the argument of the maximum element of an array.\n",
    "import numpy as np\n",
    "a = np.array([[5, 4, 3, 8], [9, 5, 4, 4], [5, 3, 2, 8]])\n",
    "print(a)\n",
    "print(a.argmax())\n",
    "print(a.argmax(axis = 0))\n",
    "print(a.argmax(axis = 1))"
   ]
  },
  {
   "cell_type": "code",
   "execution_count": 32,
   "metadata": {},
   "outputs": [
    {
     "name": "stdout",
     "output_type": "stream",
     "text": [
      "[[5 6 5 2]\n",
      " [8 6 5 3]]\n",
      "[[3 0 2 1]\n",
      " [3 2 1 0]]\n",
      "[[0 0 0 0]\n",
      " [1 1 1 1]]\n",
      "[[3 0 2 1]\n",
      " [3 2 1 0]]\n"
     ]
    }
   ],
   "source": [
    "#17.argsort()-This function will return the arguments of the sorted array(sorting takes place from minimum element to max element).\n",
    "import numpy as np\n",
    "a = np.array([[5, 6, 5, 2], [8, 6, 5, 3]])\n",
    "print(a)\n",
    "print(a.argsort())\n",
    "print(a.argsort(axis = 0))\n",
    "print(a.argsort(axis = 1))"
   ]
  },
  {
   "cell_type": "code",
   "execution_count": 36,
   "metadata": {},
   "outputs": [
    {
     "name": "stdout",
     "output_type": "stream",
     "text": [
      "[[1 2 3]\n",
      " [4 5 6]]\n",
      "3.5\n",
      "[2.5 3.5 4.5]\n",
      "[2. 5.]\n"
     ]
    }
   ],
   "source": [
    "#18.average()-This function returns (sum of array elements)/(number of array elements)\n",
    "import numpy as np\n",
    "a = np.array([[1, 2, 3], [4, 5, 6]])\n",
    "print(a)\n",
    "print(np.average(a))\n",
    "print(np.average(a, axis = 0))\n",
    "print(np.average(a, axis = 1))"
   ]
  },
  {
   "cell_type": "code",
   "execution_count": 54,
   "metadata": {},
   "outputs": [
    {
     "name": "stdout",
     "output_type": "stream",
     "text": [
      "[0 0 0 1 0 1 1 0 1]\n"
     ]
    }
   ],
   "source": [
    "#19.bincount()\n",
    "import numpy as np\n",
    "a = np.array([3, 5, 6, 8])\n",
    "print(np.bincount(a))"
   ]
  },
  {
   "cell_type": "code",
   "execution_count": 56,
   "metadata": {},
   "outputs": [
    {
     "name": "stdout",
     "output_type": "stream",
     "text": [
      "[[ 2  2  3  4  5  6  8 10 10 10]]\n"
     ]
    }
   ],
   "source": [
    "#20.clip()\n",
    "import numpy as np\n",
    "a = np.array([[1, 2, 3, 4, 5, 6, 8, 10, 12, 11]])\n",
    "b = np.clip(a, 2, 10)\n",
    "print(b)"
   ]
  },
  {
   "cell_type": "code",
   "execution_count": 57,
   "metadata": {},
   "outputs": [
    {
     "name": "stdout",
     "output_type": "stream",
     "text": [
      "(10+2j)\n"
     ]
    }
   ],
   "source": [
    "#21.conjugate()-This function returns the conjugate of a complex number.\n",
    "import numpy as np\n",
    "a = np.array((10-2j))\n",
    "print(np.conjugate(a))"
   ]
  },
  {
   "cell_type": "code",
   "execution_count": 58,
   "metadata": {},
   "outputs": [
    {
     "name": "stdout",
     "output_type": "stream",
     "text": [
      "[[1. 0. 0.]\n",
      " [0. 1. 0.]\n",
      " [0. 0. 1.]]\n"
     ]
    }
   ],
   "source": [
    "#22.eye()-This function will print the identity matrix.\n",
    "import numpy as np\n",
    "a = np.eye(3)\n",
    "print(a)"
   ]
  },
  {
   "cell_type": "code",
   "execution_count": 1,
   "metadata": {},
   "outputs": [
    {
     "name": "stdout",
     "output_type": "stream",
     "text": [
      "[[0.+1.j 0.-0.j]\n",
      " [0.-0.j 0.+1.j]]\n"
     ]
    }
   ],
   "source": [
    "import numpy as np\n",
    "a = np.eye(2)*(-1j)\n",
    "b = a*np.eye(2)\n",
    "print(np.conjugate(b))"
   ]
  },
  {
   "cell_type": "code",
   "execution_count": 2,
   "metadata": {},
   "outputs": [
    {
     "name": "stdout",
     "output_type": "stream",
     "text": [
      "[-3  6 -3]\n"
     ]
    }
   ],
   "source": [
    "#23.cross()-This function is used to find the cross product of arrays.\n",
    "import numpy as np\n",
    "a = np.array((0, 1, 2))\n",
    "b = np.array((3, 4, 5))\n",
    "c = np.cross(a, b)\n",
    "print(c)"
   ]
  },
  {
   "cell_type": "code",
   "execution_count": 4,
   "metadata": {},
   "outputs": [
    {
     "name": "stdout",
     "output_type": "stream",
     "text": [
      "[[1 1]\n",
      " [1 1]]\n"
     ]
    }
   ],
   "source": [
    "#24.diff()-This function is used to calculate the difference between consecutive elements.\n",
    "import numpy as np\n",
    "a = np.array([[1, 2, 3], [4, 5, 6]])\n",
    "b = np.diff(a)\n",
    "print(b)"
   ]
  },
  {
   "cell_type": "code",
   "execution_count": 12,
   "metadata": {},
   "outputs": [
    {
     "name": "stdout",
     "output_type": "stream",
     "text": [
      "[[ 19  34]\n",
      " [ 61 116]]\n"
     ]
    }
   ],
   "source": [
    "#25.dot()- This function is used to calculate matrix multiplication.\n",
    "import numpy as np\n",
    "a = np.array([[1, 2, 3], [9, 8, 7]])\n",
    "b = np.array([[2, 4], [1, 3], [5, 8]])\n",
    "c = a.dot(b)\n",
    "print(c)"
   ]
  },
  {
   "cell_type": "code",
   "execution_count": 13,
   "metadata": {},
   "outputs": [
    {
     "name": "stdout",
     "output_type": "stream",
     "text": [
      "[-2.  2.  4. -3.]\n"
     ]
    }
   ],
   "source": [
    "#26.floor()-This function is used for floor division in python.\n",
    "import numpy as np\n",
    "a = np.array([-1.7, 2.3, 4.2, -2.6])\n",
    "print(np.floor(a)) "
   ]
  },
  {
   "cell_type": "code",
   "execution_count": 14,
   "metadata": {},
   "outputs": [
    {
     "name": "stdout",
     "output_type": "stream",
     "text": [
      "[[22 28]\n",
      " [49 64]]\n"
     ]
    }
   ],
   "source": [
    "#27.inner()- This function will print the sum of product of corresponding element of matrix.\n",
    "import numpy as np\n",
    "a = np.array([[1, 2, 3], [4, 5, 6]])\n",
    "b = np.array([[1, 3, 5], [2, 4, 6]])\n",
    "print(np.inner(a, b))"
   ]
  },
  {
   "cell_type": "code",
   "execution_count": 15,
   "metadata": {},
   "outputs": [
    {
     "name": "stdout",
     "output_type": "stream",
     "text": [
      "3.5\n"
     ]
    }
   ],
   "source": [
    "#28.mean()-This function prints the average of all the matrix elements.\n",
    "import numpy as np\n",
    "a = np.array([[1, 2, 3], [4, 5, 6]])\n",
    "print(np.average(a))"
   ]
  },
  {
   "cell_type": "code",
   "execution_count": 17,
   "metadata": {},
   "outputs": [
    {
     "name": "stdout",
     "output_type": "stream",
     "text": [
      "[7.  7.  5.5]\n",
      "[5. 8.]\n"
     ]
    }
   ],
   "source": [
    "#example for mean() applied along axis = 0 and axis = 1.\n",
    "import numpy as np\n",
    "a = np.array([[6, 5, 4], [8, 9, 7]])\n",
    "print(np.average(a, axis = 0))\n",
    "print(np.average(a, axis = 1))"
   ]
  },
  {
   "cell_type": "code",
   "execution_count": 22,
   "metadata": {},
   "outputs": [
    {
     "name": "stdout",
     "output_type": "stream",
     "text": [
      "[[2. 5.]\n",
      " [2. 5.]]\n"
     ]
    }
   ],
   "source": [
    "#29.maximum()-This function prints the maximum elements of 2 matrices.\n",
    "import numpy as np\n",
    "a = np.array([2, 5])\n",
    "b = np.eye(2)\n",
    "print(np.maximum(a, b))"
   ]
  },
  {
   "cell_type": "code",
   "execution_count": 23,
   "metadata": {},
   "outputs": [
    {
     "name": "stdout",
     "output_type": "stream",
     "text": [
      "[[1. 0.]\n",
      " [0. 1.]]\n"
     ]
    }
   ],
   "source": [
    "#30.minimum()-This function prints the minimum elements of 2 matrices.\n",
    "import numpy as np\n",
    "a = np.array([2, 5])\n",
    "b = np.eye(2)\n",
    "print(np.minimum(a, b))"
   ]
  },
  {
   "cell_type": "code",
   "execution_count": 24,
   "metadata": {},
   "outputs": [
    {
     "name": "stdout",
     "output_type": "stream",
     "text": [
      "6.0\n"
     ]
    }
   ],
   "source": [
    "#31.median()-This function prints the median of a matrix.\n",
    "a = np.array([1, 3, 3, 6, 7, 8, 9])\n",
    "b = np.median(a)\n",
    "print(b)"
   ]
  },
  {
   "cell_type": "code",
   "execution_count": 28,
   "metadata": {},
   "outputs": [
    {
     "name": "stdout",
     "output_type": "stream",
     "text": [
      "3.5\n",
      "[2.5 3.5 4.5]\n",
      "[2. 5.]\n"
     ]
    }
   ],
   "source": [
    "#example of median along axis = 0 and axis = 1.\n",
    "import numpy as np\n",
    "a = np.array([[1, 2, 3], [4, 5, 6]])\n",
    "b = np.median(a)\n",
    "print(b)\n",
    "print(np.median(a, axis = 0))\n",
    "print(np.median(a, axis = 1))"
   ]
  },
  {
   "cell_type": "code",
   "execution_count": 32,
   "metadata": {},
   "outputs": [
    {
     "name": "stdout",
     "output_type": "stream",
     "text": [
      "720\n"
     ]
    }
   ],
   "source": [
    "#32.prod()-This function prints the product of array elements.\n",
    "import numpy as np\n",
    "a = np.array([[1, 2, 3], [4, 5, 6]])\n",
    "b = np.prod(a)\n",
    "print(b)"
   ]
  },
  {
   "cell_type": "code",
   "execution_count": 33,
   "metadata": {},
   "outputs": [
    {
     "name": "stdout",
     "output_type": "stream",
     "text": [
      "[[1 2 3 4]\n",
      " [1 2 5 6]]\n"
     ]
    }
   ],
   "source": [
    "#33.sort()-This function will sort the array elements.\n",
    "import numpy as np\n",
    "a = np.array([[3, 2, 1, 4], [2, 6, 5, 1]])\n",
    "b = np.sort(a)\n",
    "print(b)"
   ]
  },
  {
   "cell_type": "code",
   "execution_count": 1,
   "metadata": {},
   "outputs": [
    {
     "name": "stdout",
     "output_type": "stream",
     "text": [
      "1.118033988749895\n"
     ]
    }
   ],
   "source": [
    "#34.std()-This function returns the standard deviation of array elements.\n",
    "import numpy as np\n",
    "a = np.array([[1, 2], [3, 4]])\n",
    "b = np.std(a)\n",
    "print(b)"
   ]
  },
  {
   "cell_type": "markdown",
   "metadata": {},
   "source": [
    "Note: Standard deviation can be performed along the axis."
   ]
  },
  {
   "cell_type": "code",
   "execution_count": 3,
   "metadata": {},
   "outputs": [
    {
     "name": "stdout",
     "output_type": "stream",
     "text": [
      "[1. 1.]\n",
      "[0.5 0.5]\n"
     ]
    }
   ],
   "source": [
    "#example demonstrating above note.\n",
    "import numpy as np\n",
    "a = np.array([[1, 2], [3, 4]])\n",
    "b = np.std(a, axis = 0)\n",
    "print(b)\n",
    "c = np.std(a, axis = 1)\n",
    "print(c)"
   ]
  },
  {
   "cell_type": "code",
   "execution_count": 6,
   "metadata": {},
   "outputs": [
    {
     "name": "stdout",
     "output_type": "stream",
     "text": [
      "21\n",
      "[5 7 9]\n",
      "[ 6 15]\n"
     ]
    }
   ],
   "source": [
    "#35.sum()-This function is used to calculate the sum of array elements.\n",
    "a = np.array([[1, 2, 3], [4, 5, 6]])\n",
    "b = np.sum(a)\n",
    "print(b)\n",
    "c = np.sum(a, axis = 0)\n",
    "print(c)\n",
    "d = np.sum(a, axis = 1)\n",
    "print(d)"
   ]
  },
  {
   "cell_type": "code",
   "execution_count": 18,
   "metadata": {},
   "outputs": [
    {
     "name": "stdout",
     "output_type": "stream",
     "text": [
      "15\n",
      "[[ 1  2  3  4]\n",
      " [ 5  6  7  8]\n",
      " [ 9 10 11 12]\n",
      " [13 14 15 16]]\n",
      "34\n"
     ]
    }
   ],
   "source": [
    "#36.trace()-This function is used to add all the diagonal elements.\n",
    "a = np.array([[1, 2, 3], [4, 5, 6], [7, 8, 9]])\n",
    "b = np.trace(a)\n",
    "print(b)\n",
    "c = np.arange(1, 17).reshape(4, -50)\n",
    "print(c)\n",
    "d = np.trace(c)\n",
    "print(d)"
   ]
  },
  {
   "cell_type": "markdown",
   "metadata": {},
   "source": [
    "Note: If you specify any one of the element correctly in reshape method, the notebook is smart enough to calculate the order of a matrix."
   ]
  },
  {
   "cell_type": "code",
   "execution_count": 1,
   "metadata": {},
   "outputs": [
    {
     "name": "stdout",
     "output_type": "stream",
     "text": [
      "[[1 2]\n",
      " [3 4]]\n",
      "[[1 3]\n",
      " [2 4]]\n",
      "[[1 3]\n",
      " [2 4]]\n",
      "[[1 2]\n",
      " [3 4]]\n"
     ]
    }
   ],
   "source": [
    "#37.transpose()- This function is used to convert rows into columns and columns into row.\n",
    "#Transpose of a matrix can be done using 2 methods.\n",
    "#1.\n",
    "import numpy as np\n",
    "a = np.array([[1, 2], [3, 4]])\n",
    "b = np.transpose(a)\n",
    "print(a)\n",
    "print(b)\n",
    "#2.\n",
    "c = a.T\n",
    "print(c)"
   ]
  },
  {
   "cell_type": "code",
   "execution_count": 9,
   "metadata": {},
   "outputs": [
    {
     "name": "stdout",
     "output_type": "stream",
     "text": [
      "[[6. 0. 5. 8.]\n",
      " [8. 4. 2. 5.]\n",
      " [6. 1. 0. 4.]]\n",
      "(3, 4)\n",
      "[[6. 8. 6.]\n",
      " [0. 4. 1.]\n",
      " [5. 2. 0.]\n",
      " [8. 5. 4.]]\n",
      "[[6. 0. 5. 8.]\n",
      " [8. 4. 2. 5.]\n",
      " [6. 1. 0. 4.]]\n"
     ]
    }
   ],
   "source": [
    "#example2.\n",
    "import numpy as np\n",
    "a = np.floor(10*np.random.rand(12)).reshape(3, 4)\n",
    "print(a)\n",
    "print(a.shape)\n",
    "print(a.T)\n",
    "print(a)"
   ]
  },
  {
   "cell_type": "markdown",
   "metadata": {},
   "source": [
    "__Note__: Transpose will not affect the original data."
   ]
  },
  {
   "cell_type": "code",
   "execution_count": 24,
   "metadata": {},
   "outputs": [
    {
     "name": "stdout",
     "output_type": "stream",
     "text": [
      "1.25\n",
      "[1. 1.]\n",
      "[0.25 0.25]\n"
     ]
    }
   ],
   "source": [
    "#38.var()- This function is used to calculate the variance of a given array.\n",
    "#Note: This function can be performed along the axis.\n",
    "a = np.array([[1, 2], [3, 4]])\n",
    "b = np.var(a)\n",
    "c = np.var(a, axis = 0)\n",
    "d = np.var(a, axis = 1)\n",
    "print(b)\n",
    "print(c)\n",
    "print(d)"
   ]
  },
  {
   "cell_type": "code",
   "execution_count": 26,
   "metadata": {},
   "outputs": [
    {
     "name": "stdout",
     "output_type": "stream",
     "text": [
      "68\n",
      "(8-1j)\n"
     ]
    }
   ],
   "source": [
    "#39.vdot()- This function is used to calculate the vectorised product of a matrix.\n",
    "a = np.array([[1, 4], [5, 6]])\n",
    "b = np.array([[4, 1], [6, 5]])\n",
    "c = np.vdot(a, b)\n",
    "print(c)\n",
    "#vdot() for complex number.\n",
    "a = np.array([1+2j])\n",
    "b = np.array([2+3j])\n",
    "c = np.vdot(a, b)\n",
    "print(c)"
   ]
  },
  {
   "cell_type": "code",
   "execution_count": 28,
   "metadata": {},
   "outputs": [
    {
     "name": "stdout",
     "output_type": "stream",
     "text": [
      "None\n"
     ]
    },
    {
     "data": {
      "text/plain": [
       "array([5, 6])"
      ]
     },
     "execution_count": 28,
     "metadata": {},
     "output_type": "execute_result"
    }
   ],
   "source": [
    "#40.vectorize()- This function is used to use the python user defined functions in numpy.\n",
    "def myfn(a, b):\n",
    "    if(a > b):\n",
    "        return a+b\n",
    "    else:\n",
    "        return a-b\n",
    "import numpy as np\n",
    "vf = np.vectorize(myfn)\n",
    "print(vf.__doc__)\n",
    "vf([3, 4], 2)"
   ]
  },
  {
   "cell_type": "code",
   "execution_count": 30,
   "metadata": {},
   "outputs": [
    {
     "ename": "ValueError",
     "evalue": "either both or neither of x and y should be given",
     "output_type": "error",
     "traceback": [
      "\u001b[1;31m---------------------------------------------------------------------------\u001b[0m",
      "\u001b[1;31mValueError\u001b[0m                                Traceback (most recent call last)",
      "\u001b[1;32m<ipython-input-30-d9bb2b7169b0>\u001b[0m in \u001b[0;36m<module>\u001b[1;34m\u001b[0m\n\u001b[0;32m      2\u001b[0m \u001b[1;32mimport\u001b[0m \u001b[0mnumpy\u001b[0m \u001b[1;32mas\u001b[0m \u001b[0mnp\u001b[0m\u001b[1;33m\u001b[0m\u001b[1;33m\u001b[0m\u001b[0m\n\u001b[0;32m      3\u001b[0m \u001b[0ma\u001b[0m \u001b[1;33m=\u001b[0m \u001b[0mnp\u001b[0m\u001b[1;33m.\u001b[0m\u001b[0marange\u001b[0m\u001b[1;33m(\u001b[0m\u001b[1;36m1\u001b[0m\u001b[1;33m,\u001b[0m \u001b[1;36m12\u001b[0m\u001b[1;33m)\u001b[0m\u001b[1;33m\u001b[0m\u001b[1;33m\u001b[0m\u001b[0m\n\u001b[1;32m----> 4\u001b[1;33m \u001b[0mb\u001b[0m \u001b[1;33m=\u001b[0m \u001b[0mnp\u001b[0m\u001b[1;33m.\u001b[0m\u001b[0mwhere\u001b[0m\u001b[1;33m(\u001b[0m\u001b[0ma\u001b[0m\u001b[1;33m>\u001b[0m\u001b[1;36m1\u001b[0m\u001b[1;33m,\u001b[0m \u001b[0ma\u001b[0m\u001b[1;33m)\u001b[0m\u001b[1;33m\u001b[0m\u001b[1;33m\u001b[0m\u001b[0m\n\u001b[0m\u001b[0;32m      5\u001b[0m \u001b[0mprint\u001b[0m\u001b[1;33m(\u001b[0m\u001b[0mb\u001b[0m\u001b[1;33m)\u001b[0m\u001b[1;33m\u001b[0m\u001b[1;33m\u001b[0m\u001b[0m\n",
      "\u001b[1;32m<__array_function__ internals>\u001b[0m in \u001b[0;36mwhere\u001b[1;34m(*args, **kwargs)\u001b[0m\n",
      "\u001b[1;31mValueError\u001b[0m: either both or neither of x and y should be given"
     ]
    }
   ],
   "source": [
    "#41.where()- This function is used to print those elements which satisfy the given condition.\n",
    "import numpy as np\n",
    "a = np.arange(1, 12)\n",
    "b = np.where(a>1, a)\n",
    "print(b)"
   ]
  },
  {
   "cell_type": "code",
   "execution_count": 36,
   "metadata": {},
   "outputs": [
    {
     "name": "stdout",
     "output_type": "stream",
     "text": [
      "[[ 0 -1]\n",
      " [ 1  0]]\n",
      "[ 0 -1]\n",
      "[1 0]\n"
     ]
    }
   ],
   "source": [
    "#42.fromfunction()\n",
    "import numpy as np\n",
    "def fn(x, y):\n",
    "    return x-y\n",
    "a = np.fromfunction(fn, (2, 2), dtype = int)\n",
    "print(a)\n",
    "#removing the extra pair of square braces.\n",
    "for i in a:\n",
    "    print(i)"
   ]
  },
  {
   "cell_type": "code",
   "execution_count": 40,
   "metadata": {},
   "outputs": [
    {
     "name": "stdout",
     "output_type": "stream",
     "text": [
      "[[[[ 0.          3.14159265  6.28318531]\n",
      "   [ 9.42477796 12.56637061 15.70796327]]\n",
      "\n",
      "  [[18.84955592 21.99114858 25.13274123]\n",
      "   [28.27433388 31.41592654 34.55751919]]]\n",
      "\n",
      "\n",
      " [[[37.69911184 40.8407045  43.98229715]\n",
      "   [47.1238898  50.26548246 53.40707511]]\n",
      "\n",
      "  [[56.54866776 59.69026042 62.83185307]\n",
      "   [65.97344573 69.11503838 72.25663103]]]]\n"
     ]
    },
    {
     "data": {
      "text/plain": [
       "array([[[[False, False, False],\n",
       "         [False, False, False]],\n",
       "\n",
       "        [[False,  True,  True],\n",
       "         [ True,  True,  True]]],\n",
       "\n",
       "\n",
       "       [[[ True,  True,  True],\n",
       "         [ True,  True,  True]],\n",
       "\n",
       "        [[ True,  True,  True],\n",
       "         [ True,  True,  True]]]])"
      ]
     },
     "execution_count": 40,
     "metadata": {},
     "output_type": "execute_result"
    }
   ],
   "source": [
    "#example for printing the pi values and using the relational operator.\n",
    "import numpy as np\n",
    "a = np.arange(24).reshape(2, 2, 2, 3)*np.pi\n",
    "print(a)\n",
    "a>20"
   ]
  },
  {
   "cell_type": "markdown",
   "metadata": {},
   "source": [
    "Note: The output of relational operator is in the form of boolean."
   ]
  },
  {
   "cell_type": "code",
   "execution_count": 3,
   "metadata": {},
   "outputs": [
    {
     "name": "stdout",
     "output_type": "stream",
     "text": [
      "[[[0. 0. 0. 0. 0.]\n",
      "  [0. 0. 0. 0. 0.]\n",
      "  [0. 0. 0. 0. 0.]\n",
      "  [0. 0. 0. 0. 0.]]\n",
      "\n",
      " [[0. 0. 0. 0. 0.]\n",
      "  [0. 0. 0. 0. 0.]\n",
      "  [0. 0. 0. 0. 0.]\n",
      "  [0. 0. 0. 0. 0.]]\n",
      "\n",
      " [[0. 0. 0. 0. 0.]\n",
      "  [0. 0. 0. 0. 0.]\n",
      "  [0. 0. 0. 0. 0.]\n",
      "  [0. 0. 0. 0. 0.]]]\n",
      "(3, 4, 5)\n",
      "[[[0. 0. 0. 0. 0.]\n",
      "  [0. 0. 0. 0. 0.]\n",
      "  [0. 0. 0. 0. 0.]]\n",
      "\n",
      " [[0. 0. 0. 0. 0.]\n",
      "  [0. 0. 0. 0. 0.]\n",
      "  [0. 0. 0. 0. 0.]]\n",
      "\n",
      " [[0. 0. 0. 0. 0.]\n",
      "  [0. 0. 0. 0. 0.]\n",
      "  [0. 0. 0. 0. 0.]]\n",
      "\n",
      " [[0. 0. 0. 0. 0.]\n",
      "  [0. 0. 0. 0. 0.]\n",
      "  [0. 0. 0. 0. 0.]]]\n",
      "(4, 3, 5)\n"
     ]
    }
   ],
   "source": [
    "#43.moveaxis()-This function is used to move the axis.\n",
    "import numpy as np\n",
    "a = np.zeros([3, 4, 5])\n",
    "print(a)\n",
    "b = np.moveaxis(a, 0, 1)\n",
    "print(a.shape)\n",
    "print(b)\n",
    "print(b.shape)"
   ]
  },
  {
   "cell_type": "code",
   "execution_count": 8,
   "metadata": {},
   "outputs": [
    {
     "name": "stdout",
     "output_type": "stream",
     "text": [
      "[[[1. 1. 1. 1. 1.]\n",
      "  [1. 1. 1. 1. 1.]\n",
      "  [1. 1. 1. 1. 1.]\n",
      "  [1. 1. 1. 1. 1.]]\n",
      "\n",
      " [[1. 1. 1. 1. 1.]\n",
      "  [1. 1. 1. 1. 1.]\n",
      "  [1. 1. 1. 1. 1.]\n",
      "  [1. 1. 1. 1. 1.]]\n",
      "\n",
      " [[1. 1. 1. 1. 1.]\n",
      "  [1. 1. 1. 1. 1.]\n",
      "  [1. 1. 1. 1. 1.]\n",
      "  [1. 1. 1. 1. 1.]]]\n",
      "[[[1. 1. 1.]\n",
      "  [1. 1. 1.]\n",
      "  [1. 1. 1.]\n",
      "  [1. 1. 1.]]\n",
      "\n",
      " [[1. 1. 1.]\n",
      "  [1. 1. 1.]\n",
      "  [1. 1. 1.]\n",
      "  [1. 1. 1.]]\n",
      "\n",
      " [[1. 1. 1.]\n",
      "  [1. 1. 1.]\n",
      "  [1. 1. 1.]\n",
      "  [1. 1. 1.]]\n",
      "\n",
      " [[1. 1. 1.]\n",
      "  [1. 1. 1.]\n",
      "  [1. 1. 1.]\n",
      "  [1. 1. 1.]]\n",
      "\n",
      " [[1. 1. 1.]\n",
      "  [1. 1. 1.]\n",
      "  [1. 1. 1.]\n",
      "  [1. 1. 1.]]]\n",
      "(3, 4, 5)\n",
      "(5, 4, 3)\n"
     ]
    }
   ],
   "source": [
    "#44.swapaxis()-This function will reverse the specified shape.\n",
    "import numpy as np\n",
    "a = np.ones([3, 4, 5])\n",
    "b = np.swapaxes(a, -1, 0)\n",
    "print(a)\n",
    "print(b)\n",
    "print(a.shape)\n",
    "print(b.shape)"
   ]
  }
 ],
 "metadata": {
  "kernelspec": {
   "display_name": "Python 3",
   "language": "python",
   "name": "python3"
  },
  "language_info": {
   "codemirror_mode": {
    "name": "ipython",
    "version": 3
   },
   "file_extension": ".py",
   "mimetype": "text/x-python",
   "name": "python",
   "nbconvert_exporter": "python",
   "pygments_lexer": "ipython3",
   "version": "3.8.2"
  }
 },
 "nbformat": 4,
 "nbformat_minor": 4
}
