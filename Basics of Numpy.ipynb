{
 "cells": [
  {
   "cell_type": "markdown",
   "metadata": {},
   "source": [
    "Numpy array is nothing but collection of items or elements of same data type."
   ]
  },
  {
   "cell_type": "code",
   "execution_count": 1,
   "metadata": {},
   "outputs": [],
   "source": [
    "import array as ar"
   ]
  },
  {
   "cell_type": "markdown",
   "metadata": {},
   "source": [
    "Note: In the above code __import__ and __as__ are keywords.\n",
    "\n",
    "__Array__ is a built-in module.\n",
    "\n",
    "And __ar__ is an __alias__ of an array(and alias name can be anything)."
   ]
  },
  {
   "cell_type": "markdown",
   "metadata": {},
   "source": [
    "Note1: Array in python is inherited from c++"
   ]
  },
  {
   "cell_type": "code",
   "execution_count": 3,
   "metadata": {},
   "outputs": [
    {
     "name": "stdout",
     "output_type": "stream",
     "text": [
      "array('i', [1, 2, 3, 4])\n",
      "<class 'array.array'>\n"
     ]
    }
   ],
   "source": [
    "#example for creating an array in python.\n",
    "import array as ar\n",
    "a = ar.array('i', [1, 2, 3, 4])\n",
    "print(a)\n",
    "print(type(a))"
   ]
  },
  {
   "cell_type": "code",
   "execution_count": 4,
   "metadata": {},
   "outputs": [
    {
     "data": {
      "text/plain": [
       "\u001b[1;31mInit signature:\u001b[0m \u001b[0mar\u001b[0m\u001b[1;33m.\u001b[0m\u001b[0mArrayType\u001b[0m\u001b[1;33m(\u001b[0m\u001b[0mself\u001b[0m\u001b[1;33m,\u001b[0m \u001b[1;33m/\u001b[0m\u001b[1;33m,\u001b[0m \u001b[1;33m*\u001b[0m\u001b[0margs\u001b[0m\u001b[1;33m,\u001b[0m \u001b[1;33m**\u001b[0m\u001b[0mkwargs\u001b[0m\u001b[1;33m)\u001b[0m\u001b[1;33m\u001b[0m\u001b[1;33m\u001b[0m\u001b[0m\n",
       "\u001b[1;31mDocstring:\u001b[0m     \n",
       "array(typecode [, initializer]) -> array\n",
       "\n",
       "Return a new array whose items are restricted by typecode, and\n",
       "initialized from the optional initializer value, which must be a list,\n",
       "string or iterable over elements of the appropriate type.\n",
       "\n",
       "Arrays represent basic values and behave very much like lists, except\n",
       "the type of objects stored in them is constrained. The type is specified\n",
       "at object creation time by using a type code, which is a single character.\n",
       "The following type codes are defined:\n",
       "\n",
       "    Type code   C Type             Minimum size in bytes \n",
       "    'b'         signed integer     1 \n",
       "    'B'         unsigned integer   1 \n",
       "    'u'         Unicode character  2 (see note) \n",
       "    'h'         signed integer     2 \n",
       "    'H'         unsigned integer   2 \n",
       "    'i'         signed integer     2 \n",
       "    'I'         unsigned integer   2 \n",
       "    'l'         signed integer     4 \n",
       "    'L'         unsigned integer   4 \n",
       "    'q'         signed integer     8 (see note) \n",
       "    'Q'         unsigned integer   8 (see note) \n",
       "    'f'         floating point     4 \n",
       "    'd'         floating point     8 \n",
       "\n",
       "NOTE: The 'u' typecode corresponds to Python's unicode character. On \n",
       "narrow builds this is 2-bytes on wide builds this is 4-bytes.\n",
       "\n",
       "NOTE: The 'q' and 'Q' type codes are only available if the platform \n",
       "C compiler used to build Python supports 'long long', or, on Windows, \n",
       "'__int64'.\n",
       "\n",
       "Methods:\n",
       "\n",
       "append() -- append a new item to the end of the array\n",
       "buffer_info() -- return information giving the current memory info\n",
       "byteswap() -- byteswap all the items of the array\n",
       "count() -- return number of occurrences of an object\n",
       "extend() -- extend array by appending multiple elements from an iterable\n",
       "fromfile() -- read items from a file object\n",
       "fromlist() -- append items from the list\n",
       "frombytes() -- append items from the string\n",
       "index() -- return index of first occurrence of an object\n",
       "insert() -- insert a new item into the array at a provided position\n",
       "pop() -- remove and return item (default last)\n",
       "remove() -- remove first occurrence of an object\n",
       "reverse() -- reverse the order of the items in the array\n",
       "tofile() -- write all items to a file object\n",
       "tolist() -- return the array converted to an ordinary list\n",
       "tobytes() -- return the array converted to a string\n",
       "\n",
       "Attributes:\n",
       "\n",
       "typecode -- the typecode character used to create the array\n",
       "itemsize -- the length in bytes of one array item\n",
       "\u001b[1;31mType:\u001b[0m           type\n",
       "\u001b[1;31mSubclasses:\u001b[0m     \n"
      ]
     },
     "metadata": {},
     "output_type": "display_data"
    }
   ],
   "source": [
    "ar.ArrayType?"
   ]
  },
  {
   "cell_type": "code",
   "execution_count": 5,
   "metadata": {},
   "outputs": [
    {
     "name": "stdout",
     "output_type": "stream",
     "text": [
      "array('i', [1, 2, 3, 4, 5, 6])\n"
     ]
    }
   ],
   "source": [
    "#example to add 2 arrays\n",
    "x = ar.array('i', [1, 2, 3])\n",
    "y = ar.array('i', [4, 5, 6])\n",
    "print(x+y)"
   ]
  },
  {
   "cell_type": "markdown",
   "metadata": {},
   "source": [
    "Note: When you add 2 array you get a concatenated array as an output, instead of addition of each array element."
   ]
  },
  {
   "cell_type": "markdown",
   "metadata": {},
   "source": [
    "Note1: Another disadvantage is we need to specify the data type while creating an array.\n",
    "    \n",
    "And multi-dimensional array creation is difficult.\n",
    "\n",
    "So to overcome these disadvantages we use numpy(numerical python) instead of array."
   ]
  },
  {
   "cell_type": "markdown",
   "metadata": {},
   "source": [
    "Note2: All the list data structure methods are applicable to array data type."
   ]
  },
  {
   "cell_type": "markdown",
   "metadata": {},
   "source": [
    "Note3: Functionalities of numpy are imported from mat-lab.\n",
    "\n",
    "Numpy is nothing but n-dimensional array."
   ]
  },
  {
   "cell_type": "markdown",
   "metadata": {},
   "source": [
    "Important terminologies in numpy.\n",
    "\n",
    "Scalar: Which has only magnitude.\n",
    "    \n",
    "Vector: Which has both magnitude and direction.\n",
    "    \n",
    "Matrix: Which is nothing but collection of scalars with direction or multiple vectors in it.\n",
    "\n",
    "Tensorflow: Is nothing but the collection of matrices."
   ]
  },
  {
   "cell_type": "code",
   "execution_count": 27,
   "metadata": {},
   "outputs": [
    {
     "name": "stdout",
     "output_type": "stream",
     "text": [
      "2\n",
      "<class 'numpy.ndarray'>\n"
     ]
    }
   ],
   "source": [
    "#example for a scalar.\n",
    "import numpy as np\n",
    "a = np.array(2)\n",
    "print(a)\n",
    "print(type(a))"
   ]
  },
  {
   "cell_type": "code",
   "execution_count": 28,
   "metadata": {},
   "outputs": [
    {
     "name": "stdout",
     "output_type": "stream",
     "text": [
      "[1 2 3]\n",
      "<class 'numpy.ndarray'>\n"
     ]
    }
   ],
   "source": [
    "#example for a vector.\n",
    "a = np.array([1, 2, 3])\n",
    "print(a)\n",
    "print(type(a))"
   ]
  },
  {
   "cell_type": "code",
   "execution_count": 23,
   "metadata": {},
   "outputs": [
    {
     "name": "stdout",
     "output_type": "stream",
     "text": [
      "[[1 2 3]\n",
      " [4 5 6]]\n",
      "<class 'numpy.ndarray'>\n"
     ]
    }
   ],
   "source": [
    "#example to create a matrix.\n",
    "import numpy as np\n",
    "a = np.array([[1, 2, 3], [4, 5, 6]])\n",
    "print(a)\n",
    "print(type(a))"
   ]
  },
  {
   "cell_type": "markdown",
   "metadata": {},
   "source": [
    "Note: Computational time taken by python is more for large values.\n",
    "\n",
    "Another disadvantage of python is that you need to write N-for loops for creating N-dimensional array(This is not required in numpy)."
   ]
  },
  {
   "cell_type": "code",
   "execution_count": 13,
   "metadata": {},
   "outputs": [
    {
     "name": "stdout",
     "output_type": "stream",
     "text": [
      "range(0, 100000)\n"
     ]
    }
   ],
   "source": [
    "#example demonstrating the above Note.\n",
    "a = range(100000)\n",
    "print(a) #write this code in python IDLE."
   ]
  },
  {
   "cell_type": "markdown",
   "metadata": {},
   "source": [
    "Installing numpy using pip command.\n",
    "\n",
    "!pip install numpy(Type this code in jupyter lab)."
   ]
  },
  {
   "cell_type": "code",
   "execution_count": 19,
   "metadata": {},
   "outputs": [
    {
     "name": "stdout",
     "output_type": "stream",
     "text": [
      "[1 2 3]\n"
     ]
    }
   ],
   "source": [
    "#example for creating an array using numpy.\n",
    "import numpy as np\n",
    "a = np.array([1, 2, 3])\n",
    "print(a)"
   ]
  },
  {
   "cell_type": "markdown",
   "metadata": {},
   "source": [
    "Seven basic methods of numpy array."
   ]
  },
  {
   "cell_type": "markdown",
   "metadata": {},
   "source": [
    "Note: These seven methods can be applied for all types like scalar, vector, matrix and tensorflow."
   ]
  },
  {
   "cell_type": "markdown",
   "metadata": {},
   "source": [
    "shape: This method prints row and column of numpy array.\n",
    "\n",
    "dtype: Is used to find the data type of the array elements.\n",
    "\n",
    "item: Method is used to convert to scalar.\n",
    "\n",
    "itemsize: This method is used denote size of each element present in an array.\n",
    "\n",
    "ndim: Is used to find the dimension of numpy array.\n",
    "\n",
    "astype: Method is used to convert the array element to other data type.\n",
    "\n",
    "data: Method is used to know the address of numpy array."
   ]
  },
  {
   "cell_type": "code",
   "execution_count": 26,
   "metadata": {},
   "outputs": [
    {
     "name": "stdout",
     "output_type": "stream",
     "text": [
      "()\n",
      "int32\n",
      "<built-in method item of numpy.ndarray object at 0x000001F4E5ADC260>\n",
      "4\n",
      "0\n",
      "(10+0j)\n",
      "<memory at 0x000001F4E4930E10>\n"
     ]
    }
   ],
   "source": [
    "#appplying all the above seven methods on a scalar numpy array.\n",
    "a = np.array(10)\n",
    "print(a.shape)\n",
    "print(a.dtype)\n",
    "print(a.item)\n",
    "print(a.itemsize)\n",
    "print(a.ndim)\n",
    "print(a.astype(complex))\n",
    "print(a.data)"
   ]
  },
  {
   "cell_type": "code",
   "execution_count": 24,
   "metadata": {},
   "outputs": [
    {
     "name": "stdout",
     "output_type": "stream",
     "text": [
      "(5,)\n",
      "int32\n",
      "<built-in method item of numpy.ndarray object at 0x000001F4E5ADC3A0>\n",
      "4\n",
      "1\n",
      "[1. 2. 3. 4. 5.]\n",
      "<memory at 0x000001F4E5991E88>\n"
     ]
    }
   ],
   "source": [
    "#appplying all the above seven methods on vector numpy array.\n",
    "import numpy as np\n",
    "a = np.array([1, 2, 3, 4, 5])\n",
    "print(a.shape)\n",
    "print(a.dtype)\n",
    "print(a.item)\n",
    "print(a.itemsize)\n",
    "print(a.ndim)\n",
    "print(a.astype(float))\n",
    "print(a.data)"
   ]
  },
  {
   "cell_type": "markdown",
   "metadata": {},
   "source": [
    "Note: If you create a numpy array, of complex data type and convert it into int data type using astype method it returns the real part of the complex number."
   ]
  },
  {
   "cell_type": "code",
   "execution_count": 35,
   "metadata": {},
   "outputs": [
    {
     "name": "stdout",
     "output_type": "stream",
     "text": [
      "[0 0 0 0 0]\n"
     ]
    }
   ],
   "source": [
    "#example for numpy array with zeros in it(1D).\n",
    "import numpy as np\n",
    "a = np.zeros(5, dtype = int)\n",
    "print(a)"
   ]
  },
  {
   "cell_type": "markdown",
   "metadata": {},
   "source": [
    "Note: Zeros command, outputs an array containing zeros in it. The number of zeros to be printed is specified inside the parenthesis.\n",
    "\n",
    "Default output zeros will be in float format."
   ]
  },
  {
   "cell_type": "code",
   "execution_count": 36,
   "metadata": {},
   "outputs": [
    {
     "name": "stdout",
     "output_type": "stream",
     "text": [
      "[[0. 0. 0.]\n",
      " [0. 0. 0.]\n",
      " [0. 0. 0.]]\n"
     ]
    }
   ],
   "source": [
    "#example for numpy array with zeros in it(2D).\n",
    "a = np.zeros((3, 3)) #order of the matrix is specified inside the parenthesis.\n",
    "print(a)"
   ]
  },
  {
   "cell_type": "code",
   "execution_count": 37,
   "metadata": {},
   "outputs": [
    {
     "name": "stdout",
     "output_type": "stream",
     "text": [
      "[1. 1. 1. 1. 1.]\n"
     ]
    }
   ],
   "source": [
    "#example for numpy array with ones in it(1D).\n",
    "b = np.ones(5)\n",
    "print(b)"
   ]
  },
  {
   "cell_type": "code",
   "execution_count": 39,
   "metadata": {},
   "outputs": [
    {
     "name": "stdout",
     "output_type": "stream",
     "text": [
      "[[1 1]\n",
      " [1 1]]\n"
     ]
    }
   ],
   "source": [
    "#example for numpy array with ones in it(2D).\n",
    "a = np.ones((2, 2), dtype = int)\n",
    "print(a)"
   ]
  },
  {
   "cell_type": "code",
   "execution_count": 43,
   "metadata": {},
   "outputs": [
    {
     "name": "stdout",
     "output_type": "stream",
     "text": [
      "[1.0628205e-311 3.9525252e-323 3.9525252e-323 3.9525252e-323]\n"
     ]
    }
   ],
   "source": [
    "#example for numpy array with empty values in it(1D).\n",
    "import numpy as np\n",
    "c = np.empty(4) #note this function will print junk values and zeros as an output\n",
    "print(c) "
   ]
  },
  {
   "cell_type": "code",
   "execution_count": 44,
   "metadata": {},
   "outputs": [
    {
     "name": "stdout",
     "output_type": "stream",
     "text": [
      "[[1.06282618e-311 7.80623720e-322 0.00000000e+000 0.00000000e+000\n",
      "  9.34611147e-307]\n",
      " [1.16096346e-028 1.04857803e-142 1.16467185e-028 7.26221256e+199\n",
      "  1.63723574e+165]\n",
      " [1.81451584e-152 2.45068625e+198 2.96410912e+222 1.43616552e+161\n",
      "  2.88980647e+204]\n",
      " [7.10523799e-077 1.36179230e+030 1.03363560e-071 1.37466001e-070\n",
      "  3.25113983e-086]\n",
      " [9.45457959e+218 7.10523799e-077 1.36179230e+030 1.24557024e-037\n",
      "  6.79769279e-310]]\n"
     ]
    }
   ],
   "source": [
    "#example for numpy array with empty values in it(2D).\n",
    "d = np.empty((5, 5))\n",
    "print(d)"
   ]
  },
  {
   "cell_type": "markdown",
   "metadata": {},
   "source": [
    "Note: Indexing of matrix or an array is possible."
   ]
  },
  {
   "cell_type": "code",
   "execution_count": 47,
   "metadata": {},
   "outputs": [
    {
     "name": "stdout",
     "output_type": "stream",
     "text": [
      "[[0. 0. 0.]\n",
      " [0. 0. 0.]\n",
      " [0. 0. 0.]]\n",
      "0.0\n",
      "0.0\n"
     ]
    }
   ],
   "source": [
    "#example demonstrating the above note.\n",
    "import numpy as np\n",
    "d = np.empty((3, 3))\n",
    "print(a)\n",
    "print(a[1][2])\n",
    "print(a[2][1])"
   ]
  },
  {
   "cell_type": "markdown",
   "metadata": {},
   "source": [
    "Note: a[2, 1] Indexing is invalid in python but this can be used in numpy."
   ]
  },
  {
   "cell_type": "markdown",
   "metadata": {},
   "source": [
    "Few Important points about numpy.\n",
    "\n",
    "range() is used in python, whereas arange() is used in numpy.\n",
    "\n",
    "linspace- Is used for linear algebra.\n",
    "\n",
    "logspace- Is used for logarithamic scale.\n",
    "\n",
    "Random module is used to generate the random values between 0 and 1."
   ]
  }
 ],
 "metadata": {
  "kernelspec": {
   "display_name": "Python 3",
   "language": "python",
   "name": "python3"
  },
  "language_info": {
   "codemirror_mode": {
    "name": "ipython",
    "version": 3
   },
   "file_extension": ".py",
   "mimetype": "text/x-python",
   "name": "python",
   "nbconvert_exporter": "python",
   "pygments_lexer": "ipython3",
   "version": "3.6.8"
  }
 },
 "nbformat": 4,
 "nbformat_minor": 4
}
