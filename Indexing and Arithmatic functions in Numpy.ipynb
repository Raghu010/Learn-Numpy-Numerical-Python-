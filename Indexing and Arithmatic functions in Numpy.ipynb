{
 "cells": [
  {
   "cell_type": "markdown",
   "metadata": {},
   "source": [
    "__Indexing__"
   ]
  },
  {
   "cell_type": "code",
   "execution_count": 4,
   "metadata": {},
   "outputs": [
    {
     "name": "stdout",
     "output_type": "stream",
     "text": [
      "[0 1 2 3 4 5 6 7 8 9]\n",
      "5\n",
      "[1 2 3 4]\n",
      "[0 2 4]\n"
     ]
    }
   ],
   "source": [
    "#example.\n",
    "import numpy as np\n",
    "a = np.arange(10)\n",
    "print(a)\n",
    "print(a[5]) #indexing: accessing a single element.\n",
    "print(a[1:5]) #slice: accessing the range of elements.\n",
    "print(a[0:5:2]) #extended slice: accessing the range of elements with difference of 2(In this example)."
   ]
  },
  {
   "cell_type": "code",
   "execution_count": 9,
   "metadata": {},
   "outputs": [
    {
     "name": "stdout",
     "output_type": "stream",
     "text": [
      "[[1 0 0]\n",
      " [0 2 0]\n",
      " [0 0 3]]\n",
      "[[1 0 0]\n",
      " [0 2 4]\n",
      " [0 0 3]]\n",
      "[[1 0 5]\n",
      " [0 2 4]\n",
      " [0 0 3]]\n"
     ]
    }
   ],
   "source": [
    "#example for assigning the values to the array.\n",
    "a = np.diag(np.array([1, 2, 3]))\n",
    "print(a)\n",
    "a[1, 2] = 4 #this type of assigning is impossible in python but possible in numpy.\n",
    "print(a)\n",
    "a[0, 2] = 5 #this assigning is possible in both numpy and python.\n",
    "print(a) "
   ]
  },
  {
   "cell_type": "markdown",
   "metadata": {},
   "source": [
    "__Note__: axis = 0 means rows and axis = 1 means columns in numpy."
   ]
  },
  {
   "cell_type": "code",
   "execution_count": 3,
   "metadata": {},
   "outputs": [
    {
     "name": "stdout",
     "output_type": "stream",
     "text": [
      "[[0 1 2]\n",
      " [3 4 5]\n",
      " [6 7 8]]\n",
      "36\n",
      "[ 9 12 15]\n",
      "[ 3 12 21]\n"
     ]
    }
   ],
   "source": [
    "#example for sum method.\n",
    "import numpy as np\n",
    "a = np.arange(9).reshape(3, 3)\n",
    "print(a)\n",
    "print(a.sum())\n",
    "print(a.sum(axis = 0))\n",
    "print(a.sum(axis = 1))"
   ]
  },
  {
   "cell_type": "markdown",
   "metadata": {},
   "source": [
    "Note: sum() method will add all the matrix elements.\n",
    "\n",
    "a.sum(axis = 0) will add all the corresponding row elements of the matrix.\n",
    "\n",
    "a.sum(axis = 1) will add all the corresponding column elements of the matrix."
   ]
  },
  {
   "cell_type": "code",
   "execution_count": 6,
   "metadata": {},
   "outputs": [
    {
     "name": "stdout",
     "output_type": "stream",
     "text": [
      "[[ 1  2  3]\n",
      " [ 4  5  6]\n",
      " [ 7  8  9]\n",
      " [10 11 12]]\n",
      "2\n",
      "[[[ 1  2]\n",
      "  [ 3  4]\n",
      "  [ 5  6]]\n",
      "\n",
      " [[ 7  8]\n",
      "  [ 9 10]\n",
      "  [11 12]]]\n",
      "3\n"
     ]
    }
   ],
   "source": [
    "#example for shape() method.\n",
    "import numpy as np\n",
    "a = np.array([[1, 2, 3], [4, 5, 6], [7, 8, 9], [10, 11, 12]])\n",
    "print(a)\n",
    "print(a.ndim)\n",
    "a.shape = (2, 3, 2) #1st argument represents the number of arrays. 2nd and 3rd arguments represents rows and columns respectively.\n",
    "print(a)\n",
    "print(a.ndim)"
   ]
  },
  {
   "cell_type": "markdown",
   "metadata": {},
   "source": [
    "Note: This shape method will alter the original array. To overcome we use reshape method."
   ]
  },
  {
   "cell_type": "code",
   "execution_count": 8,
   "metadata": {},
   "outputs": [
    {
     "name": "stdout",
     "output_type": "stream",
     "text": [
      "[ 0  1  2  3  4  5  6  7  8  9 10 11 12 13 14 15 16 17]\n"
     ]
    }
   ],
   "source": [
    "#example for reshape method.\n",
    "import numpy as np\n",
    "a = np.arange(18)\n",
    "a.reshape(3, 3, 2)\n",
    "print(a) #note: Output doesn't change when use reshape method."
   ]
  },
  {
   "cell_type": "markdown",
   "metadata": {},
   "source": [
    "Note: The given matrix dimension should match the passed parameters when multiplied."
   ]
  },
  {
   "cell_type": "markdown",
   "metadata": {},
   "source": [
    "# Arithmatic Functions."
   ]
  },
  {
   "cell_type": "code",
   "execution_count": 14,
   "metadata": {},
   "outputs": [
    {
     "name": "stdout",
     "output_type": "stream",
     "text": [
      "[[ 0  1  2  3]\n",
      " [ 4  5  6  7]\n",
      " [ 8  9 10 11]]\n",
      "[[5 4 3 2]\n",
      " [1 3 5 7]\n",
      " [2 4 6 8]]\n",
      "[[ 5  5  5  5]\n",
      " [ 5  8 11 14]\n",
      " [10 13 16 19]]\n",
      "[[ 5  5  5  5]\n",
      " [ 5  8 11 14]\n",
      " [10 13 16 19]]\n"
     ]
    }
   ],
   "source": [
    "#1.add()\n",
    "import numpy as np\n",
    "a = np.arange(12).reshape(3, 4)\n",
    "b = np.array([[5, 4, 3, 2], [1, 3, 5, 7], [2, 4, 6, 8]])\n",
    "print(a)\n",
    "print(b) \n",
    "print(a+b)         #note: a + b = python syntax\n",
    "print(np.add(a, b))#note: np.add(a, b) = numpy syntax "
   ]
  },
  {
   "cell_type": "code",
   "execution_count": 15,
   "metadata": {},
   "outputs": [
    {
     "name": "stdout",
     "output_type": "stream",
     "text": [
      "[[ 0  1  2  3]\n",
      " [ 4  5  6  7]\n",
      " [ 8  9 10 11]]\n",
      "[[1 3 5 7]\n",
      " [2 4 6 8]\n",
      " [5 4 3 2]]\n",
      "[[-1 -2 -3 -4]\n",
      " [ 2  1  0 -1]\n",
      " [ 3  5  7  9]]\n",
      "[[-1 -2 -3 -4]\n",
      " [ 2  1  0 -1]\n",
      " [ 3  5  7  9]]\n"
     ]
    }
   ],
   "source": [
    "#2.subtract().\n",
    "import numpy as np\n",
    "a = np.arange(12).reshape(3, 4)\n",
    "b = np.array([[1, 3, 5, 7], [2, 4, 6, 8], [5, 4, 3, 2]])\n",
    "print(a)\n",
    "print(b)\n",
    "print(a-b)              #note: python syntax.\n",
    "print(np.subtract(a, b))#note: numpy syntax"
   ]
  },
  {
   "cell_type": "code",
   "execution_count": 16,
   "metadata": {},
   "outputs": [
    {
     "name": "stdout",
     "output_type": "stream",
     "text": [
      "[[0 1]\n",
      " [2 3]\n",
      " [4 5]]\n",
      "[[1 2]\n",
      " [3 4]\n",
      " [5 6]]\n",
      "[[ 0  2]\n",
      " [ 6 12]\n",
      " [20 30]]\n",
      "[[ 0  2]\n",
      " [ 6 12]\n",
      " [20 30]]\n"
     ]
    }
   ],
   "source": [
    "#3.multiply().\n",
    "a = np.arange(6).reshape(3, 2)\n",
    "b = np.array([[1, 2], [3, 4], [5, 6]])\n",
    "print(a)\n",
    "print(b)\n",
    "print(a*b)              #note: python syntax.\n",
    "print(np.multiply(a, b))#note: numpy syntax."
   ]
  },
  {
   "cell_type": "code",
   "execution_count": 13,
   "metadata": {},
   "outputs": [
    {
     "name": "stdout",
     "output_type": "stream",
     "text": [
      "[[0 1 2 3]\n",
      " [4 5 6 7]]\n",
      "[[5 6 7 8]\n",
      " [9 2 3 1]]\n",
      "[[0.         0.16666667 0.28571429 0.375     ]\n",
      " [0.44444444 2.5        2.         7.        ]]\n"
     ]
    }
   ],
   "source": [
    "#4.divide().\n",
    "import numpy as np\n",
    "a = np.arange(8).reshape(2, 4)\n",
    "b = np.array([[5, 6, 7, 8], [9, 2, 3, 1]])\n",
    "print(a)\n",
    "print(b)\n",
    "print(a/b)             #note: python syntax.\n",
    "print(np.divide(a, b)) #note:numpy syntax."
   ]
  },
  {
   "cell_type": "code",
   "execution_count": 18,
   "metadata": {},
   "outputs": [
    {
     "name": "stdout",
     "output_type": "stream",
     "text": [
      "[[ 2  4  6]\n",
      " [ 8 10 12]]\n",
      "[[ 1  3  5]\n",
      " [ 7  9 11]]\n",
      "[[2.         1.33333333 1.2       ]\n",
      " [1.14285714 1.11111111 1.09090909]]\n",
      "[[2.         1.33333333 1.2       ]\n",
      " [1.14285714 1.11111111 1.09090909]]\n"
     ]
    }
   ],
   "source": [
    "#5.True Divide().\n",
    "import numpy as np\n",
    "a = np.array([[2, 4, 6], [8, 10, 12]])\n",
    "b = np.array([[1, 3, 5], [7, 9, 11]])\n",
    "print(a)\n",
    "print(b)\n",
    "print(a/b)              \n",
    "print(np.true_divide(a, b))"
   ]
  },
  {
   "cell_type": "markdown",
   "metadata": {},
   "source": [
    "Note: This function return the true division of inputs element-wise.\n",
    "\n",
    "This method returns the same results as normal division in python. True division method adjusts the output type to present the best answer possible, regardless of input types."
   ]
  },
  {
   "cell_type": "code",
   "execution_count": 19,
   "metadata": {},
   "outputs": [
    {
     "data": {
      "text/plain": [
       "array([0.  , 0.25, 0.5 , 0.75, 1.  ])"
      ]
     },
     "execution_count": 19,
     "metadata": {},
     "output_type": "execute_result"
    }
   ],
   "source": [
    "#example2.\n",
    "x = np.arange(5)\n",
    "np.true_divide(x, 4)"
   ]
  },
  {
   "cell_type": "code",
   "execution_count": 20,
   "metadata": {},
   "outputs": [
    {
     "name": "stdout",
     "output_type": "stream",
     "text": [
      "[ 1.          2.71828183  7.3890561  20.08553692]\n"
     ]
    }
   ],
   "source": [
    "#6.exp().\n",
    "import numpy as np\n",
    "a = np.arange(4)\n",
    "print(np.exp(a))"
   ]
  },
  {
   "cell_type": "code",
   "execution_count": 22,
   "metadata": {},
   "outputs": [
    {
     "name": "stdout",
     "output_type": "stream",
     "text": [
      "[[0 0 0 0]\n",
      " [0 0 0 0]]\n",
      "[[0 0 0 0]\n",
      " [0 0 0 0]]\n"
     ]
    }
   ],
   "source": [
    "#7.floor_divide()\n",
    "import numpy as np\n",
    "a = np.arange(8).reshape(2, 4)\n",
    "b = np.array([[1, 2, 3, 4], [5, 6, 7, 8]])\n",
    "print(a//b)                 #note: python syntax.\n",
    "print(np.floor_divide(a, b))#note: numpy syntax."
   ]
  },
  {
   "cell_type": "code",
   "execution_count": 24,
   "metadata": {},
   "outputs": [
    {
     "name": "stdout",
     "output_type": "stream",
     "text": [
      "[[0 1 0 1]\n",
      " [0 1 0 1]\n",
      " [0 1 0 1]]\n",
      "[[0 1 0 1]\n",
      " [0 1 0 1]\n",
      " [0 1 0 1]]\n"
     ]
    }
   ],
   "source": [
    "#8.mod()\n",
    "import numpy as np\n",
    "a = np.arange(12).reshape(3, 4)\n",
    "print(a%2)\n",
    "print(np.mod(a, 2))"
   ]
  },
  {
   "cell_type": "code",
   "execution_count": 25,
   "metadata": {},
   "outputs": [
    {
     "name": "stdout",
     "output_type": "stream",
     "text": [
      "[[False False False]\n",
      " [ True  True False]]\n",
      "[[False  True  True]\n",
      " [False False False]]\n",
      "[[ True False False]\n",
      " [False False  True]]\n"
     ]
    }
   ],
   "source": [
    "#example for relational operators.\n",
    "import numpy as np\n",
    "a = np.array([[1, 2, 3], [4, 5, 6]])\n",
    "b = np.array([[1, 3, 5], [2, 4, 6]])\n",
    "print(a>b)\n",
    "print(a<b)\n",
    "print(a==b)"
   ]
  },
  {
   "cell_type": "code",
   "execution_count": 27,
   "metadata": {},
   "outputs": [
    {
     "name": "stdout",
     "output_type": "stream",
     "text": [
      "[[2 3]\n",
      " [4 0]]\n"
     ]
    }
   ],
   "source": [
    "#example for multiplying two arrays.\n",
    "import numpy as np\n",
    "a = np.array([[1, 1], [1, 0]])\n",
    "b = np.array([[2, 3], [4, 3]])\n",
    "print(a*b) #note: This is not the syntax for matrix multiplication."
   ]
  },
  {
   "cell_type": "code",
   "execution_count": 28,
   "metadata": {},
   "outputs": [
    {
     "name": "stdout",
     "output_type": "stream",
     "text": [
      "[[3 4]\n",
      " [2 3]]\n"
     ]
    }
   ],
   "source": [
    "#examples for matrix multiplication.\n",
    "import numpy as np\n",
    "a = np.array([[1, 2], [1, 1]])\n",
    "b = np.array([[1, 2], [1, 1]])\n",
    "print(a@b) #Note: syntax for matrix multiplication."
   ]
  },
  {
   "cell_type": "code",
   "execution_count": 29,
   "metadata": {},
   "outputs": [
    {
     "name": "stdout",
     "output_type": "stream",
     "text": [
      "[[3 4]\n",
      " [2 3]]\n"
     ]
    }
   ],
   "source": [
    "#another syntax for matrix multiplication.\n",
    "a = np.array([[1, 2], [1, 1]])\n",
    "b = np.array([[1, 2], [1, 1]])\n",
    "print(a.dot(b))"
   ]
  },
  {
   "cell_type": "code",
   "execution_count": 36,
   "metadata": {},
   "outputs": [
    {
     "name": "stdout",
     "output_type": "stream",
     "text": [
      "[[ 0  1  2  3]\n",
      " [ 4  5  6  7]\n",
      " [ 8  9 10 11]]\n",
      "0\n",
      "[0 1 2 3]\n",
      "[0 4 8]\n",
      "11\n",
      "[ 8  9 10 11]\n",
      "[ 3  7 11]\n"
     ]
    }
   ],
   "source": [
    "#example for finding min and max elements of a numpy matrix.\n",
    "import numpy as np\n",
    "a = np.arange(12).reshape(3, 4)\n",
    "print(a)\n",
    "print(np.min(a))\n",
    "print(np.min(a, axis = 0))\n",
    "print(np.min(a, axis = 1))\n",
    "print(a.max())\n",
    "print(a.max(axis = 0))\n",
    "print(a.max(axis = 1))"
   ]
  },
  {
   "cell_type": "code",
   "execution_count": 39,
   "metadata": {},
   "outputs": [
    {
     "name": "stdout",
     "output_type": "stream",
     "text": [
      "[ 1  3  6 10 15 21]\n",
      "[[1 2 3]\n",
      " [5 7 9]]\n",
      "[[ 1  3  6]\n",
      " [ 4  9 15]]\n"
     ]
    }
   ],
   "source": [
    "#examples for finding cumulative sum.\n",
    "import numpy as np\n",
    "a = np.array([[1, 2, 3], [4, 5, 6]])\n",
    "print(a.cumsum())\n",
    "print(a.cumsum(axis = 0))\n",
    "print(a.cumsum(axis = 1))"
   ]
  },
  {
   "cell_type": "code",
   "execution_count": 42,
   "metadata": {},
   "outputs": [
    {
     "name": "stdout",
     "output_type": "stream",
     "text": [
      "[  1   2   6  24 120 720]\n",
      "[[ 1  2  3]\n",
      " [ 4 10 18]]\n",
      "[[  1   2   6]\n",
      " [  4  20 120]]\n"
     ]
    }
   ],
   "source": [
    "#example for finding cumulative product.\n",
    "a = np.array([[1, 2, 3], [4, 5, 6]])\n",
    "print(a.cumprod())\n",
    "print(a.cumprod(axis = 0))\n",
    "print(a.cumprod(axis = 1))"
   ]
  },
  {
   "cell_type": "markdown",
   "metadata": {},
   "source": [
    "# Indexing the array elements."
   ]
  },
  {
   "cell_type": "code",
   "execution_count": 9,
   "metadata": {},
   "outputs": [
    {
     "name": "stdout",
     "output_type": "stream",
     "text": [
      "[ 1  4  9 16 25 36 49 64 81]\n",
      "1\n",
      "[25 64]\n"
     ]
    }
   ],
   "source": [
    "#example for positive indexing.\n",
    "import numpy as np\n",
    "a = np.arange(1, 10)**2\n",
    "print(a)\n",
    "print(a[0])\n",
    "print(a[[4, 7]])"
   ]
  },
  {
   "cell_type": "code",
   "execution_count": 8,
   "metadata": {},
   "outputs": [
    {
     "name": "stdout",
     "output_type": "stream",
     "text": [
      "[8 7]\n"
     ]
    }
   ],
   "source": [
    "#example for negative indexing.\n",
    "import numpy as np\n",
    "a = np.array([1, 2, 3, 4, 5, 6, 7, 8, 9])\n",
    "print(a[[-2, -3]])"
   ]
  },
  {
   "cell_type": "code",
   "execution_count": 11,
   "metadata": {},
   "outputs": [
    {
     "name": "stdout",
     "output_type": "stream",
     "text": [
      "[  1   4   9  16  25  36  49  64  81 100]\n",
      "[16 25 36 49 64]\n"
     ]
    }
   ],
   "source": [
    "#example fo slice of an array.\n",
    "import numpy as np\n",
    "a = np.arange(1, 11)**2\n",
    "print(a[:])\n",
    "print(a[3:8])"
   ]
  },
  {
   "cell_type": "code",
   "execution_count": 17,
   "metadata": {},
   "outputs": [
    {
     "name": "stdout",
     "output_type": "stream",
     "text": [
      "[  1   4   9  16  25  36  49  64  81 100]\n",
      "[ 1  9 25 49 81]\n",
      "[100  64  36  16   4]\n",
      "[1 4]\n",
      "[ 25  36  49  64  81 100]\n"
     ]
    }
   ],
   "source": [
    "#extended slice of an array element.\n",
    "import numpy as np\n",
    "a = np.arange(1, 11)**2\n",
    "print(a[::1])\n",
    "print(a[::2])\n",
    "print(a[::-2])\n",
    "print(a[:2:])\n",
    "print(a[4::])"
   ]
  },
  {
   "cell_type": "code",
   "execution_count": 19,
   "metadata": {},
   "outputs": [
    {
     "name": "stdout",
     "output_type": "stream",
     "text": [
      "[   1    8   27   64  125  216  343  512  729 1000]\n",
      "[ 1.  2.  3.  4.  5.  6.  7.  8.  9. 10.]\n"
     ]
    }
   ],
   "source": [
    "#example for printing 1/3rd power of a number.\n",
    "import numpy as np\n",
    "a = np.arange(1, 11)**3\n",
    "print(a)\n",
    "print(a**(1/3))"
   ]
  },
  {
   "cell_type": "code",
   "execution_count": 24,
   "metadata": {},
   "outputs": [
    {
     "name": "stdout",
     "output_type": "stream",
     "text": [
      "[[[ 0  1  2  3]\n",
      "  [ 4  5  6  7]]\n",
      "\n",
      " [[ 8  9 10 11]\n",
      "  [12 13 14 15]]\n",
      "\n",
      " [[16 17 18 19]\n",
      "  [20 21 22 23]]]\n",
      "6\n",
      "9\n",
      "23\n"
     ]
    }
   ],
   "source": [
    "#example for slice of multi-dimensional array.\n",
    "import numpy as np\n",
    "a = np.arange(24).reshape(3, 2, 4)\n",
    "print(a)\n",
    "print(a[0][1][2])\n",
    "print(a[1][0][1])\n",
    "print(a[2,1, 3]) #Note: first element inside the square bracket indicates the array."
   ]
  },
  {
   "cell_type": "markdown",
   "metadata": {},
   "source": [
    "# fancy indexing."
   ]
  },
  {
   "cell_type": "code",
   "execution_count": 4,
   "metadata": {},
   "outputs": [
    {
     "name": "stdout",
     "output_type": "stream",
     "text": [
      "[9 8 7 6 5]\n",
      "[8 6]\n"
     ]
    }
   ],
   "source": [
    "#example for fancy indexing using array vector.\n",
    "import numpy as np\n",
    "a = np.array([9, 8, 7, 6, 5])\n",
    "print(a)\n",
    "i = np.array([1, 3])\n",
    "b = a[i]\n",
    "print(b)"
   ]
  },
  {
   "cell_type": "code",
   "execution_count": 6,
   "metadata": {},
   "outputs": [
    {
     "name": "stdout",
     "output_type": "stream",
     "text": [
      "[ 0  1  4  9 16 25 36 49 64 81]\n",
      "[[ 1 16]\n",
      " [ 9  4]]\n"
     ]
    }
   ],
   "source": [
    "#example for fancy indexing using matrix.\n",
    "import numpy as np\n",
    "a = np.arange(10)**2\n",
    "print(a)\n",
    "b = np.array([[1, 4], [3, 2]])\n",
    "print(a[b])"
   ]
  },
  {
   "cell_type": "code",
   "execution_count": 14,
   "metadata": {},
   "outputs": [
    {
     "name": "stdout",
     "output_type": "stream",
     "text": [
      "[[ 0  1  2  3]\n",
      " [ 4  5  6  7]\n",
      " [ 8  9 10 11]]\n",
      "[[0 1]\n",
      " [2 1]]\n",
      "[[2 1]\n",
      " [2 0]]\n",
      "[[ 2  5]\n",
      " [10  4]]\n"
     ]
    }
   ],
   "source": [
    "import numpy as np\n",
    "a = np.arange(12).reshape(3, 4)\n",
    "print(a)\n",
    "b = np.array([[0, 1], [2, 1]])\n",
    "print(b)\n",
    "c = np.array([[2, 1], [2, 0]])\n",
    "print(c)\n",
    "print(a[b, c])"
   ]
  },
  {
   "cell_type": "code",
   "execution_count": 16,
   "metadata": {},
   "outputs": [
    {
     "name": "stdout",
     "output_type": "stream",
     "text": [
      "[[  0   0   0]\n",
      " [255   0   0]\n",
      " [  0 255   0]\n",
      " [  0   0 255]]\n"
     ]
    },
    {
     "data": {
      "text/plain": [
       "<matplotlib.image.AxesImage at 0x223b176d430>"
      ]
     },
     "execution_count": 16,
     "metadata": {},
     "output_type": "execute_result"
    },
    {
     "data": {
      "image/png": "[encoded data removed]",
      "text/plain": [
       "<Figure size 432x288 with 1 Axes>"
      ]
     },
     "metadata": {
      "needs_background": "light"
     },
     "output_type": "display_data"
    }
   ],
   "source": [
    "#example for image with different colors.\n",
    "import numpy as np\n",
    "import matplotlib.pyplot as plt\n",
    "a = np.array([[0, 0, 0],\n",
    "             [255, 0, 0],\n",
    "             [0, 255, 0],\n",
    "             [0,0,255]])\n",
    "print(a)\n",
    "plt.imshow(a)"
   ]
  }
 ],
 "metadata": {
  "kernelspec": {
   "display_name": "Python 3",
   "language": "python",
   "name": "python3"
  },
  "language_info": {
   "codemirror_mode": {
    "name": "ipython",
    "version": 3
   },
   "file_extension": ".py",
   "mimetype": "text/x-python",
   "name": "python",
   "nbconvert_exporter": "python",
   "pygments_lexer": "ipython3",
   "version": "3.8.2"
  }
 },
 "nbformat": 4,
 "nbformat_minor": 4
}
