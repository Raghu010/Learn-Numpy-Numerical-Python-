{
 "cells": [
  {
   "cell_type": "markdown",
   "metadata": {},
   "source": [
    "__Split__: This will split the array.\n",
    "    \n",
    "There are 5 types:\n",
    "\n",
    "1.Vertical split.\n",
    "\n",
    "2.Horizonal split.\n",
    "\n",
    "3.Depth_split.\n",
    "\n",
    "4.array_split.\n",
    "\n",
    "5.split."
   ]
  },
  {
   "cell_type": "code",
   "execution_count": 13,
   "metadata": {},
   "outputs": [
    {
     "name": "stdout",
     "output_type": "stream",
     "text": [
      "[[1 2 3]\n",
      " [4 5 6]\n",
      " [7 8 9]]\n",
      "[array([[1, 2, 3]]), array([[4, 5, 6]]), array([[7, 8, 9]])]\n",
      "[[ 1  2  3  4]\n",
      " [ 5  6  7  8]\n",
      " [ 9 10 11 12]\n",
      " [13 14 15 16]]\n",
      "[array([[1, 2, 3, 4],\n",
      "       [5, 6, 7, 8]]), array([[ 9, 10, 11, 12],\n",
      "       [13, 14, 15, 16]])]\n"
     ]
    }
   ],
   "source": [
    "import numpy as np\n",
    "a = np.arange(1, 10).reshape(3, 3)\n",
    "print(a)\n",
    "b = np.vsplit(a, 3)\n",
    "print(b)\n",
    "c = np.arange(1, 17).reshape(4, 4)\n",
    "print(c)\n",
    "d = np.vsplit(c, 2)\n",
    "print(d)\n",
    "e = np.vsplit(c, np.array([3]))"
   ]
  },
  {
   "cell_type": "code",
   "execution_count": 15,
   "metadata": {},
   "outputs": [
    {
     "name": "stdout",
     "output_type": "stream",
     "text": [
      "[[ 0  1  2  3]\n",
      " [ 4  5  6  7]\n",
      " [ 8  9 10 11]\n",
      " [12 13 14 15]]\n",
      "[array([[ 0,  1],\n",
      "       [ 4,  5],\n",
      "       [ 8,  9],\n",
      "       [12, 13]]), array([[ 2,  3],\n",
      "       [ 6,  7],\n",
      "       [10, 11],\n",
      "       [14, 15]])]\n"
     ]
    }
   ],
   "source": [
    "#example for horizontal split.\n",
    "import numpy as np\n",
    "a = np.arange(16).reshape(4, 4)\n",
    "print(a)\n",
    "b = np.hsplit(a, 2)\n",
    "print(b)"
   ]
  },
  {
   "cell_type": "code",
   "execution_count": 3,
   "metadata": {},
   "outputs": [
    {
     "name": "stdout",
     "output_type": "stream",
     "text": [
      "[[[[ 0  1]\n",
      "   [ 2  3]]\n",
      "\n",
      "  [[ 4  5]\n",
      "   [ 6  7]]\n",
      "\n",
      "  [[ 8  9]\n",
      "   [10 11]]]\n",
      "\n",
      "\n",
      " [[[12 13]\n",
      "   [14 15]]\n",
      "\n",
      "  [[16 17]\n",
      "   [18 19]]\n",
      "\n",
      "  [[20 21]\n",
      "   [22 23]]]\n",
      "\n",
      "\n",
      " [[[24 25]\n",
      "   [26 27]]\n",
      "\n",
      "  [[28 29]\n",
      "   [30 31]]\n",
      "\n",
      "  [[32 33]\n",
      "   [34 35]]]]\n",
      "[array([[[[ 0,  1]],\n",
      "\n",
      "        [[ 4,  5]],\n",
      "\n",
      "        [[ 8,  9]]],\n",
      "\n",
      "\n",
      "       [[[12, 13]],\n",
      "\n",
      "        [[16, 17]],\n",
      "\n",
      "        [[20, 21]]],\n",
      "\n",
      "\n",
      "       [[[24, 25]],\n",
      "\n",
      "        [[28, 29]],\n",
      "\n",
      "        [[32, 33]]]]), array([[[[ 2,  3]],\n",
      "\n",
      "        [[ 6,  7]],\n",
      "\n",
      "        [[10, 11]]],\n",
      "\n",
      "\n",
      "       [[[14, 15]],\n",
      "\n",
      "        [[18, 19]],\n",
      "\n",
      "        [[22, 23]]],\n",
      "\n",
      "\n",
      "       [[[26, 27]],\n",
      "\n",
      "        [[30, 31]],\n",
      "\n",
      "        [[34, 35]]]])]\n"
     ]
    }
   ],
   "source": [
    "#example for dsplit.\n",
    "import numpy as np\n",
    "a = np.arange(36).reshape(3, 3, 2, 2)\n",
    "print(a)\n",
    "b = np.dsplit(a, 2)\n",
    "print(b)"
   ]
  },
  {
   "cell_type": "code",
   "execution_count": 4,
   "metadata": {},
   "outputs": [
    {
     "name": "stdout",
     "output_type": "stream",
     "text": [
      "[ 0  1  2  3  4  5  6  7  8  9 10 11 12 13 14 15 16 17 18 19 20 21 22 23\n",
      " 24 25]\n",
      "[array([ 0,  1,  2,  3,  4,  5,  6,  7,  8,  9, 10, 11, 12]), array([13, 14, 15, 16, 17, 18, 19, 20, 21, 22, 23, 24, 25])]\n"
     ]
    }
   ],
   "source": [
    "#example for array split\n",
    "import numpy as np\n",
    "a = np.arange(26)\n",
    "b = np.array_split(a, 2)\n",
    "print(a)\n",
    "print(b)"
   ]
  },
  {
   "cell_type": "code",
   "execution_count": 5,
   "metadata": {},
   "outputs": [
    {
     "name": "stdout",
     "output_type": "stream",
     "text": [
      "[ 0  1  2  3  4  5  6  7  8  9 10 11 12 13 14 15]\n",
      "[array([0, 1, 2, 3]), array([4, 5, 6, 7]), array([ 8,  9, 10, 11]), array([12, 13, 14, 15])]\n"
     ]
    }
   ],
   "source": [
    "#example for split.\n",
    "import numpy as np\n",
    "a = np.arange(16)\n",
    "b = np.split(a, 4)\n",
    "print(a)\n",
    "print(b)"
   ]
  }
 ],
 "metadata": {
  "kernelspec": {
   "display_name": "Python 3",
   "language": "python",
   "name": "python3"
  },
  "language_info": {
   "codemirror_mode": {
    "name": "ipython",
    "version": 3
   },
   "file_extension": ".py",
   "mimetype": "text/x-python",
   "name": "python",
   "nbconvert_exporter": "python",
   "pygments_lexer": "ipython3",
   "version": "3.8.2"
  }
 },
 "nbformat": 4,
 "nbformat_minor": 4
}
