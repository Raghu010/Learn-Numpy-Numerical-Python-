{
 "cells": [
  {
   "cell_type": "markdown",
   "metadata": {},
   "source": [
    "__Creating a polynomial__"
   ]
  },
  {
   "cell_type": "code",
   "execution_count": 3,
   "metadata": {},
   "outputs": [
    {
     "name": "stdout",
     "output_type": "stream",
     "text": [
      "   2\n",
      "2 x + 3 x - 1\n",
      "   2\n",
      "1 x + 2 x + 2\n"
     ]
    },
    {
     "data": {
      "text/plain": [
       "[<matplotlib.lines.Line2D at 0x1ebaf671f10>]"
      ]
     },
     "execution_count": 3,
     "metadata": {},
     "output_type": "execute_result"
    },
    {
     "data": {
      "image/png": "[encoded data removed]",
      "text/plain": [
       "<Figure size 432x288 with 1 Axes>"
      ]
     },
     "metadata": {
      "needs_background": "light"
     },
     "output_type": "display_data"
    }
   ],
   "source": [
    "import numpy as np\n",
    "import matplotlib.pyplot as plt\n",
    "a = np.poly1d([2, 3, -1])\n",
    "print(a)\n",
    "b = np.poly1d([1, 2, 2])\n",
    "print(b)\n",
    "plt.plot(a)\n",
    "plt.plot(b)"
   ]
  },
  {
   "cell_type": "markdown",
   "metadata": {},
   "source": [
    "__Note__: Poly1d function in numpy is used to create a polynomial in numpy. "
   ]
  },
  {
   "cell_type": "markdown",
   "metadata": {},
   "source": [
    "# Arithmatic operations on polynomial."
   ]
  },
  {
   "cell_type": "code",
   "execution_count": 4,
   "metadata": {},
   "outputs": [
    {
     "name": "stdout",
     "output_type": "stream",
     "text": [
      "   2\n",
      "1 x + 2 x + 3    2\n",
      "4 x + 5 x + 6\n",
      "   2\n",
      "5 x + 7 x + 9\n"
     ]
    }
   ],
   "source": [
    "#1.addition.\n",
    "from numpy.polynomial.polynomial import polyval\n",
    "a = np.poly1d([1, 2, 3])\n",
    "b = np.poly1d([4, 5, 6])\n",
    "print(a, b)\n",
    "c = np.polyadd(a, b)\n",
    "print(c)"
   ]
  },
  {
   "cell_type": "code",
   "execution_count": 6,
   "metadata": {},
   "outputs": [
    {
     "name": "stdout",
     "output_type": "stream",
     "text": [
      "   2\n",
      "4 x + 5 x + 6\n",
      "   2\n",
      "1 x + 2 x + 3\n",
      "   2\n",
      "3 x + 3 x + 3\n"
     ]
    }
   ],
   "source": [
    "#2.subtraction.\n",
    "from numpy.polynomial.polynomial import polyval\n",
    "a = np.poly1d([4, 5, 6])\n",
    "b = np.poly1d([1, 2, 3])\n",
    "print(a)\n",
    "print(b)\n",
    "c = np.polysub(a, b)\n",
    "print(c)"
   ]
  },
  {
   "cell_type": "code",
   "execution_count": 8,
   "metadata": {},
   "outputs": [
    {
     "name": "stdout",
     "output_type": "stream",
     "text": [
      "   2\n",
      "1 x + 2 x + 3\n",
      "   2\n",
      "1 x + 2 x + 3\n",
      "   4     3      2\n",
      "1 x + 4 x + 10 x + 12 x + 9\n"
     ]
    }
   ],
   "source": [
    "#3.multiplication.\n",
    "from numpy.polynomial.polynomial import polyval\n",
    "a = np.poly1d([1, 2, 3])\n",
    "b = np.poly1d([1, 2, 3])\n",
    "print(a)\n",
    "print(b)\n",
    "c = np.polymul(a, b)\n",
    "print(c)"
   ]
  },
  {
   "cell_type": "code",
   "execution_count": 10,
   "metadata": {},
   "outputs": [
    {
     "name": "stdout",
     "output_type": "stream",
     "text": [
      "   2\n",
      "4 x + 5 x + 6\n",
      "   2\n",
      "1 x + 2 x + 3\n",
      "(poly1d([4.]), poly1d([-3., -6.]))\n"
     ]
    }
   ],
   "source": [
    "#divison.\n",
    "from numpy.polynomial.polynomial import polyval\n",
    "a = np.poly1d([4, 5, 6])\n",
    "b = np.poly1d([1, 2, 3])\n",
    "print(a)\n",
    "print(b)\n",
    "c = np.polydiv(a, b)\n",
    "print(c)"
   ]
  },
  {
   "cell_type": "code",
   "execution_count": 12,
   "metadata": {},
   "outputs": [
    {
     "name": "stdout",
     "output_type": "stream",
     "text": [
      "   2\n",
      "1 x + 3 x + 2\n"
     ]
    },
    {
     "data": {
      "text/plain": [
       "array([-2., -1.])"
      ]
     },
     "execution_count": 12,
     "metadata": {},
     "output_type": "execute_result"
    }
   ],
   "source": [
    "#example for finding the roots of polynomial equation.\n",
    "from numpy.polynomial.polynomial import polyval\n",
    "a = np.poly1d([1, 3, 2])\n",
    "print(a)\n",
    "a.roots"
   ]
  },
  {
   "cell_type": "code",
   "execution_count": 16,
   "metadata": {},
   "outputs": [
    {
     "name": "stdout",
     "output_type": "stream",
     "text": [
      "   3     2\n",
      "2 x + 5 x + 3 x + 1\n",
      " \n",
      "12 x + 10\n"
     ]
    }
   ],
   "source": [
    "#example for finding the derivative of the polynomial equation.\n",
    "from numpy.polynomial.polynomial import polyval\n",
    "a = np.poly1d([2, 5, 3, 1])\n",
    "print(a)\n",
    "b = np.polyder(a, 2)\n",
    "print(b)"
   ]
  },
  {
   "cell_type": "code",
   "execution_count": 18,
   "metadata": {},
   "outputs": [
    {
     "name": "stdout",
     "output_type": "stream",
     "text": [
      " \n",
      "1 x\n"
     ]
    }
   ],
   "source": [
    "#example for finding the integral of a polynomial.\n",
    "from numpy.polynomial.polynomial import polyval\n",
    "a = np.poly1d([1])\n",
    "b = np.polyint(a)\n",
    "print(b)"
   ]
  },
  {
   "cell_type": "markdown",
   "metadata": {},
   "source": [
    "__Note__: Polyfit is a function in which a line passes to all the point. Or in other words the point at which polynomial equation becomes zero or simply the roots of the equation."
   ]
  },
  {
   "cell_type": "code",
   "execution_count": 3,
   "metadata": {},
   "outputs": [
    {
     "name": "stdout",
     "output_type": "stream",
     "text": [
      "[[4 7]\n",
      " [2 6]]\n",
      "10.000000000000002\n"
     ]
    }
   ],
   "source": [
    "#example to find the determinant of a matrix.\n",
    "import numpy as np\n",
    "from numpy.linalg import det\n",
    "a = np.array([[4, 7], [2, 6]])\n",
    "print(a)\n",
    "b = np.linalg.det(a)\n",
    "print(b)"
   ]
  },
  {
   "cell_type": "code",
   "execution_count": 2,
   "metadata": {},
   "outputs": [
    {
     "name": "stdout",
     "output_type": "stream",
     "text": [
      "[[4 7]\n",
      " [2 6]]\n",
      "[[ 0.6 -0.7]\n",
      " [-0.2  0.4]]\n"
     ]
    }
   ],
   "source": [
    "#example for finding the inverse of a matrix.\n",
    "import numpy as np\n",
    "from numpy.linalg import inv\n",
    "a = np.array([[4, 7], [2, 6]])\n",
    "print(a)\n",
    "b = np.linalg.inv(a)\n",
    "print(b)"
   ]
  },
  {
   "cell_type": "code",
   "execution_count": 4,
   "metadata": {},
   "outputs": [
    {
     "name": "stdout",
     "output_type": "stream",
     "text": [
      "   2\n",
      "1 x + 2 x + 3\n",
      "2\n"
     ]
    }
   ],
   "source": [
    "#example for finding the degree and order of a polynomial equation.\n",
    "import numpy as np\n",
    "a = np.poly1d([1, 2, 3])\n",
    "print(a)\n",
    "print(a.order)"
   ]
  },
  {
   "cell_type": "code",
   "execution_count": 8,
   "metadata": {},
   "outputs": [
    {
     "name": "stdout",
     "output_type": "stream",
     "text": [
      "[2. 3.]\n"
     ]
    },
    {
     "data": {
      "text/plain": [
       "True"
      ]
     },
     "execution_count": 8,
     "metadata": {},
     "output_type": "execute_result"
    }
   ],
   "source": [
    "#example for solving polynomial equation.\n",
    "import numpy as np\n",
    "a = np.array([[3, 1], [1, 2]])\n",
    "b = np.array([9, 8])\n",
    "c = np.linalg.solve(a, b)\n",
    "print(c)\n",
    "np.allclose(np.dot(a, c), b)"
   ]
  }
 ],
 "metadata": {
  "kernelspec": {
   "display_name": "Python 3",
   "language": "python",
   "name": "python3"
  },
  "language_info": {
   "codemirror_mode": {
    "name": "ipython",
    "version": 3
   },
   "file_extension": ".py",
   "mimetype": "text/x-python",
   "name": "python",
   "nbconvert_exporter": "python",
   "pygments_lexer": "ipython3",
   "version": "3.8.2"
  }
 },
 "nbformat": 4,
 "nbformat_minor": 4
}
